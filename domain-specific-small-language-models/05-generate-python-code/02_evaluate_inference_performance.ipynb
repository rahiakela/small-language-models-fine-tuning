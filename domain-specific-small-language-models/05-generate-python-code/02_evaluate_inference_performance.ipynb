{
  "nbformat": 4,
  "nbformat_minor": 0,
  "metadata": {
    "colab": {
      "provenance": [],
      "gpuType": "T4",
      "toc_visible": true,
      "include_colab_link": true
    },
    "kernelspec": {
      "name": "python3",
      "display_name": "Python 3"
    },
    "language_info": {
      "name": "python"
    },
    "accelerator": "GPU",
    "widgets": {
      "application/vnd.jupyter.widget-state+json": {
        "7050a512be1f4fd983567bc2d1de0e2d": {
          "model_module": "@jupyter-widgets/controls",
          "model_name": "HBoxModel",
          "model_module_version": "1.5.0",
          "state": {
            "_dom_classes": [],
            "_model_module": "@jupyter-widgets/controls",
            "_model_module_version": "1.5.0",
            "_model_name": "HBoxModel",
            "_view_count": null,
            "_view_module": "@jupyter-widgets/controls",
            "_view_module_version": "1.5.0",
            "_view_name": "HBoxView",
            "box_style": "",
            "children": [
              "IPY_MODEL_ec58715348d648ceae092bb5c5f00475",
              "IPY_MODEL_17c903991aaa41948dadac6ebb3fea8f",
              "IPY_MODEL_14eb68cb9d6e48b6a9600071d51ee933"
            ],
            "layout": "IPY_MODEL_2ccc7e8cfe024f9cbbf3b0e7cfdbffc3"
          }
        },
        "ec58715348d648ceae092bb5c5f00475": {
          "model_module": "@jupyter-widgets/controls",
          "model_name": "HTMLModel",
          "model_module_version": "1.5.0",
          "state": {
            "_dom_classes": [],
            "_model_module": "@jupyter-widgets/controls",
            "_model_module_version": "1.5.0",
            "_model_name": "HTMLModel",
            "_view_count": null,
            "_view_module": "@jupyter-widgets/controls",
            "_view_module_version": "1.5.0",
            "_view_name": "HTMLView",
            "description": "",
            "description_tooltip": null,
            "layout": "IPY_MODEL_5ae098c754fe48daae129ba7d037e351",
            "placeholder": "​",
            "style": "IPY_MODEL_e8737e053b144113b0c1ea3a9aeb0c68",
            "value": "config.json: 100%"
          }
        },
        "17c903991aaa41948dadac6ebb3fea8f": {
          "model_module": "@jupyter-widgets/controls",
          "model_name": "FloatProgressModel",
          "model_module_version": "1.5.0",
          "state": {
            "_dom_classes": [],
            "_model_module": "@jupyter-widgets/controls",
            "_model_module_version": "1.5.0",
            "_model_name": "FloatProgressModel",
            "_view_count": null,
            "_view_module": "@jupyter-widgets/controls",
            "_view_module_version": "1.5.0",
            "_view_name": "ProgressView",
            "bar_style": "success",
            "description": "",
            "description_tooltip": null,
            "layout": "IPY_MODEL_bd46a2b1adba451599293cdb14ec5077",
            "max": 999,
            "min": 0,
            "orientation": "horizontal",
            "style": "IPY_MODEL_1ba04379bf52432f99cb62445ac16346",
            "value": 999
          }
        },
        "14eb68cb9d6e48b6a9600071d51ee933": {
          "model_module": "@jupyter-widgets/controls",
          "model_name": "HTMLModel",
          "model_module_version": "1.5.0",
          "state": {
            "_dom_classes": [],
            "_model_module": "@jupyter-widgets/controls",
            "_model_module_version": "1.5.0",
            "_model_name": "HTMLModel",
            "_view_count": null,
            "_view_module": "@jupyter-widgets/controls",
            "_view_module_version": "1.5.0",
            "_view_name": "HTMLView",
            "description": "",
            "description_tooltip": null,
            "layout": "IPY_MODEL_9a976d91428448c8a3fe0b4ae3cab560",
            "placeholder": "​",
            "style": "IPY_MODEL_af9690bba4564bbebdaf42dff993c65d",
            "value": " 999/999 [00:00&lt;00:00, 85.8kB/s]"
          }
        },
        "2ccc7e8cfe024f9cbbf3b0e7cfdbffc3": {
          "model_module": "@jupyter-widgets/base",
          "model_name": "LayoutModel",
          "model_module_version": "1.2.0",
          "state": {
            "_model_module": "@jupyter-widgets/base",
            "_model_module_version": "1.2.0",
            "_model_name": "LayoutModel",
            "_view_count": null,
            "_view_module": "@jupyter-widgets/base",
            "_view_module_version": "1.2.0",
            "_view_name": "LayoutView",
            "align_content": null,
            "align_items": null,
            "align_self": null,
            "border": null,
            "bottom": null,
            "display": null,
            "flex": null,
            "flex_flow": null,
            "grid_area": null,
            "grid_auto_columns": null,
            "grid_auto_flow": null,
            "grid_auto_rows": null,
            "grid_column": null,
            "grid_gap": null,
            "grid_row": null,
            "grid_template_areas": null,
            "grid_template_columns": null,
            "grid_template_rows": null,
            "height": null,
            "justify_content": null,
            "justify_items": null,
            "left": null,
            "margin": null,
            "max_height": null,
            "max_width": null,
            "min_height": null,
            "min_width": null,
            "object_fit": null,
            "object_position": null,
            "order": null,
            "overflow": null,
            "overflow_x": null,
            "overflow_y": null,
            "padding": null,
            "right": null,
            "top": null,
            "visibility": null,
            "width": null
          }
        },
        "5ae098c754fe48daae129ba7d037e351": {
          "model_module": "@jupyter-widgets/base",
          "model_name": "LayoutModel",
          "model_module_version": "1.2.0",
          "state": {
            "_model_module": "@jupyter-widgets/base",
            "_model_module_version": "1.2.0",
            "_model_name": "LayoutModel",
            "_view_count": null,
            "_view_module": "@jupyter-widgets/base",
            "_view_module_version": "1.2.0",
            "_view_name": "LayoutView",
            "align_content": null,
            "align_items": null,
            "align_self": null,
            "border": null,
            "bottom": null,
            "display": null,
            "flex": null,
            "flex_flow": null,
            "grid_area": null,
            "grid_auto_columns": null,
            "grid_auto_flow": null,
            "grid_auto_rows": null,
            "grid_column": null,
            "grid_gap": null,
            "grid_row": null,
            "grid_template_areas": null,
            "grid_template_columns": null,
            "grid_template_rows": null,
            "height": null,
            "justify_content": null,
            "justify_items": null,
            "left": null,
            "margin": null,
            "max_height": null,
            "max_width": null,
            "min_height": null,
            "min_width": null,
            "object_fit": null,
            "object_position": null,
            "order": null,
            "overflow": null,
            "overflow_x": null,
            "overflow_y": null,
            "padding": null,
            "right": null,
            "top": null,
            "visibility": null,
            "width": null
          }
        },
        "e8737e053b144113b0c1ea3a9aeb0c68": {
          "model_module": "@jupyter-widgets/controls",
          "model_name": "DescriptionStyleModel",
          "model_module_version": "1.5.0",
          "state": {
            "_model_module": "@jupyter-widgets/controls",
            "_model_module_version": "1.5.0",
            "_model_name": "DescriptionStyleModel",
            "_view_count": null,
            "_view_module": "@jupyter-widgets/base",
            "_view_module_version": "1.2.0",
            "_view_name": "StyleView",
            "description_width": ""
          }
        },
        "bd46a2b1adba451599293cdb14ec5077": {
          "model_module": "@jupyter-widgets/base",
          "model_name": "LayoutModel",
          "model_module_version": "1.2.0",
          "state": {
            "_model_module": "@jupyter-widgets/base",
            "_model_module_version": "1.2.0",
            "_model_name": "LayoutModel",
            "_view_count": null,
            "_view_module": "@jupyter-widgets/base",
            "_view_module_version": "1.2.0",
            "_view_name": "LayoutView",
            "align_content": null,
            "align_items": null,
            "align_self": null,
            "border": null,
            "bottom": null,
            "display": null,
            "flex": null,
            "flex_flow": null,
            "grid_area": null,
            "grid_auto_columns": null,
            "grid_auto_flow": null,
            "grid_auto_rows": null,
            "grid_column": null,
            "grid_gap": null,
            "grid_row": null,
            "grid_template_areas": null,
            "grid_template_columns": null,
            "grid_template_rows": null,
            "height": null,
            "justify_content": null,
            "justify_items": null,
            "left": null,
            "margin": null,
            "max_height": null,
            "max_width": null,
            "min_height": null,
            "min_width": null,
            "object_fit": null,
            "object_position": null,
            "order": null,
            "overflow": null,
            "overflow_x": null,
            "overflow_y": null,
            "padding": null,
            "right": null,
            "top": null,
            "visibility": null,
            "width": null
          }
        },
        "1ba04379bf52432f99cb62445ac16346": {
          "model_module": "@jupyter-widgets/controls",
          "model_name": "ProgressStyleModel",
          "model_module_version": "1.5.0",
          "state": {
            "_model_module": "@jupyter-widgets/controls",
            "_model_module_version": "1.5.0",
            "_model_name": "ProgressStyleModel",
            "_view_count": null,
            "_view_module": "@jupyter-widgets/base",
            "_view_module_version": "1.2.0",
            "_view_name": "StyleView",
            "bar_color": null,
            "description_width": ""
          }
        },
        "9a976d91428448c8a3fe0b4ae3cab560": {
          "model_module": "@jupyter-widgets/base",
          "model_name": "LayoutModel",
          "model_module_version": "1.2.0",
          "state": {
            "_model_module": "@jupyter-widgets/base",
            "_model_module_version": "1.2.0",
            "_model_name": "LayoutModel",
            "_view_count": null,
            "_view_module": "@jupyter-widgets/base",
            "_view_module_version": "1.2.0",
            "_view_name": "LayoutView",
            "align_content": null,
            "align_items": null,
            "align_self": null,
            "border": null,
            "bottom": null,
            "display": null,
            "flex": null,
            "flex_flow": null,
            "grid_area": null,
            "grid_auto_columns": null,
            "grid_auto_flow": null,
            "grid_auto_rows": null,
            "grid_column": null,
            "grid_gap": null,
            "grid_row": null,
            "grid_template_areas": null,
            "grid_template_columns": null,
            "grid_template_rows": null,
            "height": null,
            "justify_content": null,
            "justify_items": null,
            "left": null,
            "margin": null,
            "max_height": null,
            "max_width": null,
            "min_height": null,
            "min_width": null,
            "object_fit": null,
            "object_position": null,
            "order": null,
            "overflow": null,
            "overflow_x": null,
            "overflow_y": null,
            "padding": null,
            "right": null,
            "top": null,
            "visibility": null,
            "width": null
          }
        },
        "af9690bba4564bbebdaf42dff993c65d": {
          "model_module": "@jupyter-widgets/controls",
          "model_name": "DescriptionStyleModel",
          "model_module_version": "1.5.0",
          "state": {
            "_model_module": "@jupyter-widgets/controls",
            "_model_module_version": "1.5.0",
            "_model_name": "DescriptionStyleModel",
            "_view_count": null,
            "_view_module": "@jupyter-widgets/base",
            "_view_module_version": "1.2.0",
            "_view_name": "StyleView",
            "description_width": ""
          }
        },
        "2395148a76294e03ac71315bf4f4cf92": {
          "model_module": "@jupyter-widgets/controls",
          "model_name": "HBoxModel",
          "model_module_version": "1.5.0",
          "state": {
            "_dom_classes": [],
            "_model_module": "@jupyter-widgets/controls",
            "_model_module_version": "1.5.0",
            "_model_name": "HBoxModel",
            "_view_count": null,
            "_view_module": "@jupyter-widgets/controls",
            "_view_module_version": "1.5.0",
            "_view_name": "HBoxView",
            "box_style": "",
            "children": [
              "IPY_MODEL_390f9c3dcfda476e93eff589f5364af7",
              "IPY_MODEL_23289c69f75d4c13ac499ba9036cf3a8",
              "IPY_MODEL_9214889a4ed04028a6e6da7d44347ec2"
            ],
            "layout": "IPY_MODEL_9812461ea09c40ba9db3cb9877bce697"
          }
        },
        "390f9c3dcfda476e93eff589f5364af7": {
          "model_module": "@jupyter-widgets/controls",
          "model_name": "HTMLModel",
          "model_module_version": "1.5.0",
          "state": {
            "_dom_classes": [],
            "_model_module": "@jupyter-widgets/controls",
            "_model_module_version": "1.5.0",
            "_model_name": "HTMLModel",
            "_view_count": null,
            "_view_module": "@jupyter-widgets/controls",
            "_view_module_version": "1.5.0",
            "_view_name": "HTMLView",
            "description": "",
            "description_tooltip": null,
            "layout": "IPY_MODEL_f11561623d524e5799627913df11f36f",
            "placeholder": "​",
            "style": "IPY_MODEL_b46a1faa94134928b2898d13d345a9a6",
            "value": "pytorch_model.bin: 100%"
          }
        },
        "23289c69f75d4c13ac499ba9036cf3a8": {
          "model_module": "@jupyter-widgets/controls",
          "model_name": "FloatProgressModel",
          "model_module_version": "1.5.0",
          "state": {
            "_dom_classes": [],
            "_model_module": "@jupyter-widgets/controls",
            "_model_module_version": "1.5.0",
            "_model_name": "FloatProgressModel",
            "_view_count": null,
            "_view_module": "@jupyter-widgets/controls",
            "_view_module_version": "1.5.0",
            "_view_name": "ProgressView",
            "bar_style": "success",
            "description": "",
            "description_tooltip": null,
            "layout": "IPY_MODEL_6196fa0de9444de6b43e7ee1d670feaa",
            "max": 797367631,
            "min": 0,
            "orientation": "horizontal",
            "style": "IPY_MODEL_2238670a38d3490c87c2d7f53bd7f1d0",
            "value": 797367631
          }
        },
        "9214889a4ed04028a6e6da7d44347ec2": {
          "model_module": "@jupyter-widgets/controls",
          "model_name": "HTMLModel",
          "model_module_version": "1.5.0",
          "state": {
            "_dom_classes": [],
            "_model_module": "@jupyter-widgets/controls",
            "_model_module_version": "1.5.0",
            "_model_name": "HTMLModel",
            "_view_count": null,
            "_view_module": "@jupyter-widgets/controls",
            "_view_module_version": "1.5.0",
            "_view_name": "HTMLView",
            "description": "",
            "description_tooltip": null,
            "layout": "IPY_MODEL_7b797dd731e148e7a246b268562d9e13",
            "placeholder": "​",
            "style": "IPY_MODEL_8576249566e643f9b331c53bda84b000",
            "value": " 797M/797M [00:15&lt;00:00, 80.1MB/s]"
          }
        },
        "9812461ea09c40ba9db3cb9877bce697": {
          "model_module": "@jupyter-widgets/base",
          "model_name": "LayoutModel",
          "model_module_version": "1.2.0",
          "state": {
            "_model_module": "@jupyter-widgets/base",
            "_model_module_version": "1.2.0",
            "_model_name": "LayoutModel",
            "_view_count": null,
            "_view_module": "@jupyter-widgets/base",
            "_view_module_version": "1.2.0",
            "_view_name": "LayoutView",
            "align_content": null,
            "align_items": null,
            "align_self": null,
            "border": null,
            "bottom": null,
            "display": null,
            "flex": null,
            "flex_flow": null,
            "grid_area": null,
            "grid_auto_columns": null,
            "grid_auto_flow": null,
            "grid_auto_rows": null,
            "grid_column": null,
            "grid_gap": null,
            "grid_row": null,
            "grid_template_areas": null,
            "grid_template_columns": null,
            "grid_template_rows": null,
            "height": null,
            "justify_content": null,
            "justify_items": null,
            "left": null,
            "margin": null,
            "max_height": null,
            "max_width": null,
            "min_height": null,
            "min_width": null,
            "object_fit": null,
            "object_position": null,
            "order": null,
            "overflow": null,
            "overflow_x": null,
            "overflow_y": null,
            "padding": null,
            "right": null,
            "top": null,
            "visibility": null,
            "width": null
          }
        },
        "f11561623d524e5799627913df11f36f": {
          "model_module": "@jupyter-widgets/base",
          "model_name": "LayoutModel",
          "model_module_version": "1.2.0",
          "state": {
            "_model_module": "@jupyter-widgets/base",
            "_model_module_version": "1.2.0",
            "_model_name": "LayoutModel",
            "_view_count": null,
            "_view_module": "@jupyter-widgets/base",
            "_view_module_version": "1.2.0",
            "_view_name": "LayoutView",
            "align_content": null,
            "align_items": null,
            "align_self": null,
            "border": null,
            "bottom": null,
            "display": null,
            "flex": null,
            "flex_flow": null,
            "grid_area": null,
            "grid_auto_columns": null,
            "grid_auto_flow": null,
            "grid_auto_rows": null,
            "grid_column": null,
            "grid_gap": null,
            "grid_row": null,
            "grid_template_areas": null,
            "grid_template_columns": null,
            "grid_template_rows": null,
            "height": null,
            "justify_content": null,
            "justify_items": null,
            "left": null,
            "margin": null,
            "max_height": null,
            "max_width": null,
            "min_height": null,
            "min_width": null,
            "object_fit": null,
            "object_position": null,
            "order": null,
            "overflow": null,
            "overflow_x": null,
            "overflow_y": null,
            "padding": null,
            "right": null,
            "top": null,
            "visibility": null,
            "width": null
          }
        },
        "b46a1faa94134928b2898d13d345a9a6": {
          "model_module": "@jupyter-widgets/controls",
          "model_name": "DescriptionStyleModel",
          "model_module_version": "1.5.0",
          "state": {
            "_model_module": "@jupyter-widgets/controls",
            "_model_module_version": "1.5.0",
            "_model_name": "DescriptionStyleModel",
            "_view_count": null,
            "_view_module": "@jupyter-widgets/base",
            "_view_module_version": "1.2.0",
            "_view_name": "StyleView",
            "description_width": ""
          }
        },
        "6196fa0de9444de6b43e7ee1d670feaa": {
          "model_module": "@jupyter-widgets/base",
          "model_name": "LayoutModel",
          "model_module_version": "1.2.0",
          "state": {
            "_model_module": "@jupyter-widgets/base",
            "_model_module_version": "1.2.0",
            "_model_name": "LayoutModel",
            "_view_count": null,
            "_view_module": "@jupyter-widgets/base",
            "_view_module_version": "1.2.0",
            "_view_name": "LayoutView",
            "align_content": null,
            "align_items": null,
            "align_self": null,
            "border": null,
            "bottom": null,
            "display": null,
            "flex": null,
            "flex_flow": null,
            "grid_area": null,
            "grid_auto_columns": null,
            "grid_auto_flow": null,
            "grid_auto_rows": null,
            "grid_column": null,
            "grid_gap": null,
            "grid_row": null,
            "grid_template_areas": null,
            "grid_template_columns": null,
            "grid_template_rows": null,
            "height": null,
            "justify_content": null,
            "justify_items": null,
            "left": null,
            "margin": null,
            "max_height": null,
            "max_width": null,
            "min_height": null,
            "min_width": null,
            "object_fit": null,
            "object_position": null,
            "order": null,
            "overflow": null,
            "overflow_x": null,
            "overflow_y": null,
            "padding": null,
            "right": null,
            "top": null,
            "visibility": null,
            "width": null
          }
        },
        "2238670a38d3490c87c2d7f53bd7f1d0": {
          "model_module": "@jupyter-widgets/controls",
          "model_name": "ProgressStyleModel",
          "model_module_version": "1.5.0",
          "state": {
            "_model_module": "@jupyter-widgets/controls",
            "_model_module_version": "1.5.0",
            "_model_name": "ProgressStyleModel",
            "_view_count": null,
            "_view_module": "@jupyter-widgets/base",
            "_view_module_version": "1.2.0",
            "_view_name": "StyleView",
            "bar_color": null,
            "description_width": ""
          }
        },
        "7b797dd731e148e7a246b268562d9e13": {
          "model_module": "@jupyter-widgets/base",
          "model_name": "LayoutModel",
          "model_module_version": "1.2.0",
          "state": {
            "_model_module": "@jupyter-widgets/base",
            "_model_module_version": "1.2.0",
            "_model_name": "LayoutModel",
            "_view_count": null,
            "_view_module": "@jupyter-widgets/base",
            "_view_module_version": "1.2.0",
            "_view_name": "LayoutView",
            "align_content": null,
            "align_items": null,
            "align_self": null,
            "border": null,
            "bottom": null,
            "display": null,
            "flex": null,
            "flex_flow": null,
            "grid_area": null,
            "grid_auto_columns": null,
            "grid_auto_flow": null,
            "grid_auto_rows": null,
            "grid_column": null,
            "grid_gap": null,
            "grid_row": null,
            "grid_template_areas": null,
            "grid_template_columns": null,
            "grid_template_rows": null,
            "height": null,
            "justify_content": null,
            "justify_items": null,
            "left": null,
            "margin": null,
            "max_height": null,
            "max_width": null,
            "min_height": null,
            "min_width": null,
            "object_fit": null,
            "object_position": null,
            "order": null,
            "overflow": null,
            "overflow_x": null,
            "overflow_y": null,
            "padding": null,
            "right": null,
            "top": null,
            "visibility": null,
            "width": null
          }
        },
        "8576249566e643f9b331c53bda84b000": {
          "model_module": "@jupyter-widgets/controls",
          "model_name": "DescriptionStyleModel",
          "model_module_version": "1.5.0",
          "state": {
            "_model_module": "@jupyter-widgets/controls",
            "_model_module_version": "1.5.0",
            "_model_name": "DescriptionStyleModel",
            "_view_count": null,
            "_view_module": "@jupyter-widgets/base",
            "_view_module_version": "1.2.0",
            "_view_name": "StyleView",
            "description_width": ""
          }
        },
        "d83c9bdd78e84fa9ae8ec607ca11e953": {
          "model_module": "@jupyter-widgets/controls",
          "model_name": "HBoxModel",
          "model_module_version": "1.5.0",
          "state": {
            "_dom_classes": [],
            "_model_module": "@jupyter-widgets/controls",
            "_model_module_version": "1.5.0",
            "_model_name": "HBoxModel",
            "_view_count": null,
            "_view_module": "@jupyter-widgets/controls",
            "_view_module_version": "1.5.0",
            "_view_name": "HBoxView",
            "box_style": "",
            "children": [
              "IPY_MODEL_f6c463d5f6a945caa820282cad52003c",
              "IPY_MODEL_7445037c50aa4a7cb33e93d408bea9c8",
              "IPY_MODEL_feaa9c324ee94824b900f654c62ba3d6"
            ],
            "layout": "IPY_MODEL_991a472320f94dbd8ee1b14dcfc6fac4"
          }
        },
        "f6c463d5f6a945caa820282cad52003c": {
          "model_module": "@jupyter-widgets/controls",
          "model_name": "HTMLModel",
          "model_module_version": "1.5.0",
          "state": {
            "_dom_classes": [],
            "_model_module": "@jupyter-widgets/controls",
            "_model_module_version": "1.5.0",
            "_model_name": "HTMLModel",
            "_view_count": null,
            "_view_module": "@jupyter-widgets/controls",
            "_view_module_version": "1.5.0",
            "_view_name": "HTMLView",
            "description": "",
            "description_tooltip": null,
            "layout": "IPY_MODEL_ce5786d81b474c10bf9a2020efee8df7",
            "placeholder": "​",
            "style": "IPY_MODEL_42c860819a2b4ae38f49c837a494b06f",
            "value": "model.safetensors: 100%"
          }
        },
        "7445037c50aa4a7cb33e93d408bea9c8": {
          "model_module": "@jupyter-widgets/controls",
          "model_name": "FloatProgressModel",
          "model_module_version": "1.5.0",
          "state": {
            "_dom_classes": [],
            "_model_module": "@jupyter-widgets/controls",
            "_model_module_version": "1.5.0",
            "_model_name": "FloatProgressModel",
            "_view_count": null,
            "_view_module": "@jupyter-widgets/controls",
            "_view_module_version": "1.5.0",
            "_view_name": "ProgressView",
            "bar_style": "success",
            "description": "",
            "description_tooltip": null,
            "layout": "IPY_MODEL_3073394b3be74e4c83a81d5da9cca2ff",
            "max": 797330536,
            "min": 0,
            "orientation": "horizontal",
            "style": "IPY_MODEL_2c383a6f713e4c1ab4753896ccead80e",
            "value": 797330536
          }
        },
        "feaa9c324ee94824b900f654c62ba3d6": {
          "model_module": "@jupyter-widgets/controls",
          "model_name": "HTMLModel",
          "model_module_version": "1.5.0",
          "state": {
            "_dom_classes": [],
            "_model_module": "@jupyter-widgets/controls",
            "_model_module_version": "1.5.0",
            "_model_name": "HTMLModel",
            "_view_count": null,
            "_view_module": "@jupyter-widgets/controls",
            "_view_module_version": "1.5.0",
            "_view_name": "HTMLView",
            "description": "",
            "description_tooltip": null,
            "layout": "IPY_MODEL_2d8a8858c64b46c393b3ddec5f74c90e",
            "placeholder": "​",
            "style": "IPY_MODEL_d1f1d3f459e14d519e287950c4f0cd19",
            "value": " 797M/797M [00:14&lt;00:00, 72.5MB/s]"
          }
        },
        "991a472320f94dbd8ee1b14dcfc6fac4": {
          "model_module": "@jupyter-widgets/base",
          "model_name": "LayoutModel",
          "model_module_version": "1.2.0",
          "state": {
            "_model_module": "@jupyter-widgets/base",
            "_model_module_version": "1.2.0",
            "_model_name": "LayoutModel",
            "_view_count": null,
            "_view_module": "@jupyter-widgets/base",
            "_view_module_version": "1.2.0",
            "_view_name": "LayoutView",
            "align_content": null,
            "align_items": null,
            "align_self": null,
            "border": null,
            "bottom": null,
            "display": null,
            "flex": null,
            "flex_flow": null,
            "grid_area": null,
            "grid_auto_columns": null,
            "grid_auto_flow": null,
            "grid_auto_rows": null,
            "grid_column": null,
            "grid_gap": null,
            "grid_row": null,
            "grid_template_areas": null,
            "grid_template_columns": null,
            "grid_template_rows": null,
            "height": null,
            "justify_content": null,
            "justify_items": null,
            "left": null,
            "margin": null,
            "max_height": null,
            "max_width": null,
            "min_height": null,
            "min_width": null,
            "object_fit": null,
            "object_position": null,
            "order": null,
            "overflow": null,
            "overflow_x": null,
            "overflow_y": null,
            "padding": null,
            "right": null,
            "top": null,
            "visibility": null,
            "width": null
          }
        },
        "ce5786d81b474c10bf9a2020efee8df7": {
          "model_module": "@jupyter-widgets/base",
          "model_name": "LayoutModel",
          "model_module_version": "1.2.0",
          "state": {
            "_model_module": "@jupyter-widgets/base",
            "_model_module_version": "1.2.0",
            "_model_name": "LayoutModel",
            "_view_count": null,
            "_view_module": "@jupyter-widgets/base",
            "_view_module_version": "1.2.0",
            "_view_name": "LayoutView",
            "align_content": null,
            "align_items": null,
            "align_self": null,
            "border": null,
            "bottom": null,
            "display": null,
            "flex": null,
            "flex_flow": null,
            "grid_area": null,
            "grid_auto_columns": null,
            "grid_auto_flow": null,
            "grid_auto_rows": null,
            "grid_column": null,
            "grid_gap": null,
            "grid_row": null,
            "grid_template_areas": null,
            "grid_template_columns": null,
            "grid_template_rows": null,
            "height": null,
            "justify_content": null,
            "justify_items": null,
            "left": null,
            "margin": null,
            "max_height": null,
            "max_width": null,
            "min_height": null,
            "min_width": null,
            "object_fit": null,
            "object_position": null,
            "order": null,
            "overflow": null,
            "overflow_x": null,
            "overflow_y": null,
            "padding": null,
            "right": null,
            "top": null,
            "visibility": null,
            "width": null
          }
        },
        "42c860819a2b4ae38f49c837a494b06f": {
          "model_module": "@jupyter-widgets/controls",
          "model_name": "DescriptionStyleModel",
          "model_module_version": "1.5.0",
          "state": {
            "_model_module": "@jupyter-widgets/controls",
            "_model_module_version": "1.5.0",
            "_model_name": "DescriptionStyleModel",
            "_view_count": null,
            "_view_module": "@jupyter-widgets/base",
            "_view_module_version": "1.2.0",
            "_view_name": "StyleView",
            "description_width": ""
          }
        },
        "3073394b3be74e4c83a81d5da9cca2ff": {
          "model_module": "@jupyter-widgets/base",
          "model_name": "LayoutModel",
          "model_module_version": "1.2.0",
          "state": {
            "_model_module": "@jupyter-widgets/base",
            "_model_module_version": "1.2.0",
            "_model_name": "LayoutModel",
            "_view_count": null,
            "_view_module": "@jupyter-widgets/base",
            "_view_module_version": "1.2.0",
            "_view_name": "LayoutView",
            "align_content": null,
            "align_items": null,
            "align_self": null,
            "border": null,
            "bottom": null,
            "display": null,
            "flex": null,
            "flex_flow": null,
            "grid_area": null,
            "grid_auto_columns": null,
            "grid_auto_flow": null,
            "grid_auto_rows": null,
            "grid_column": null,
            "grid_gap": null,
            "grid_row": null,
            "grid_template_areas": null,
            "grid_template_columns": null,
            "grid_template_rows": null,
            "height": null,
            "justify_content": null,
            "justify_items": null,
            "left": null,
            "margin": null,
            "max_height": null,
            "max_width": null,
            "min_height": null,
            "min_width": null,
            "object_fit": null,
            "object_position": null,
            "order": null,
            "overflow": null,
            "overflow_x": null,
            "overflow_y": null,
            "padding": null,
            "right": null,
            "top": null,
            "visibility": null,
            "width": null
          }
        },
        "2c383a6f713e4c1ab4753896ccead80e": {
          "model_module": "@jupyter-widgets/controls",
          "model_name": "ProgressStyleModel",
          "model_module_version": "1.5.0",
          "state": {
            "_model_module": "@jupyter-widgets/controls",
            "_model_module_version": "1.5.0",
            "_model_name": "ProgressStyleModel",
            "_view_count": null,
            "_view_module": "@jupyter-widgets/base",
            "_view_module_version": "1.2.0",
            "_view_name": "StyleView",
            "bar_color": null,
            "description_width": ""
          }
        },
        "2d8a8858c64b46c393b3ddec5f74c90e": {
          "model_module": "@jupyter-widgets/base",
          "model_name": "LayoutModel",
          "model_module_version": "1.2.0",
          "state": {
            "_model_module": "@jupyter-widgets/base",
            "_model_module_version": "1.2.0",
            "_model_name": "LayoutModel",
            "_view_count": null,
            "_view_module": "@jupyter-widgets/base",
            "_view_module_version": "1.2.0",
            "_view_name": "LayoutView",
            "align_content": null,
            "align_items": null,
            "align_self": null,
            "border": null,
            "bottom": null,
            "display": null,
            "flex": null,
            "flex_flow": null,
            "grid_area": null,
            "grid_auto_columns": null,
            "grid_auto_flow": null,
            "grid_auto_rows": null,
            "grid_column": null,
            "grid_gap": null,
            "grid_row": null,
            "grid_template_areas": null,
            "grid_template_columns": null,
            "grid_template_rows": null,
            "height": null,
            "justify_content": null,
            "justify_items": null,
            "left": null,
            "margin": null,
            "max_height": null,
            "max_width": null,
            "min_height": null,
            "min_width": null,
            "object_fit": null,
            "object_position": null,
            "order": null,
            "overflow": null,
            "overflow_x": null,
            "overflow_y": null,
            "padding": null,
            "right": null,
            "top": null,
            "visibility": null,
            "width": null
          }
        },
        "d1f1d3f459e14d519e287950c4f0cd19": {
          "model_module": "@jupyter-widgets/controls",
          "model_name": "DescriptionStyleModel",
          "model_module_version": "1.5.0",
          "state": {
            "_model_module": "@jupyter-widgets/controls",
            "_model_module_version": "1.5.0",
            "_model_name": "DescriptionStyleModel",
            "_view_count": null,
            "_view_module": "@jupyter-widgets/base",
            "_view_module_version": "1.2.0",
            "_view_name": "StyleView",
            "description_width": ""
          }
        }
      }
    }
  },
  "cells": [
    {
      "cell_type": "markdown",
      "metadata": {
        "id": "view-in-github",
        "colab_type": "text"
      },
      "source": [
        "<a href=\"https://colab.research.google.com/github/rahiakela/small-language-models-fine-tuning/blob/main/domain-specific-small-language-models/05-generate-python-code/02_evaluate_inference_performance.ipynb\" target=\"_parent\"><img src=\"https://colab.research.google.com/assets/colab-badge.svg\" alt=\"Open In Colab\"/></a>"
      ]
    },
    {
      "cell_type": "markdown",
      "source": [
        "## Evaluation Python Code Generation with CodeGen 350M mono Using the ReCode Approach\n"
      ],
      "metadata": {
        "id": "zhc_SPyDWS3C"
      }
    },
    {
      "cell_type": "markdown",
      "source": [
        "The code in this notebook is to show an approach to evaluate the quality of the Python code generated through a [CodeGen 350 M mono](https://huggingface.co/Salesforce/codegen-350M-mono) model. The code in this notebook has been derived and adapted from the ReCode paper. While the CodeGen 350M mono model is evaluated here, the exact same approach applies to other models for Python code generation available in the Hugging Face Hub. Python is the only programming language that could be evaluate using the code in this notebook. Execution of the code cells of this notebooks requires hardware acceleration (GPU).  "
      ],
      "metadata": {
        "id": "sRFLe_A8aIEg"
      }
    },
    {
      "cell_type": "markdown",
      "source": [
        "The correctness evaluation steps depend on the OpenAI's HumanEval package. It isn't available through any Python package manager, so it needs to be installed from source."
      ],
      "metadata": {
        "id": "c76kVLv2_Mj6"
      }
    },
    {
      "cell_type": "code",
      "source": [
        "!git clone https://github.com/openai/human-eval\n",
        "%cd human-eval\n",
        "!pip install .\n",
        "%cd .."
      ],
      "metadata": {
        "id": "8J0-30nDWMwY"
      },
      "execution_count": null,
      "outputs": []
    },
    {
      "cell_type": "markdown",
      "source": [
        "Download the preprocessed HumanEval dataset from the ReCode GitHub repo."
      ],
      "metadata": {
        "id": "_lrUbBzkZSQS"
      }
    },
    {
      "cell_type": "code",
      "source": [
        "!mkdir -p datasets/nominal/\n",
        "%cd ./datasets/nominal/\n",
        "!wget https://raw.githubusercontent.com/amazon-science/recode/refs/heads/main/datasets/nominal/HumanEval.jsonl\n",
        "%cd ../.."
      ],
      "metadata": {
        "id": "vrOK6F4HZ65i"
      },
      "execution_count": null,
      "outputs": []
    },
    {
      "cell_type": "markdown",
      "source": [
        "## Load Model"
      ],
      "metadata": {
        "id": "uxefV9xadden"
      }
    },
    {
      "cell_type": "markdown",
      "source": [
        "Load the CodeGen 350 M mono model and tokenizer from the HF's Hub. The model weights are then loaded into GPU memory."
      ],
      "metadata": {
        "id": "p3fCaZV6ZbDI"
      }
    },
    {
      "cell_type": "code",
      "source": [
        "from transformers import AutoTokenizer\n",
        "\n",
        "model_id = \"Salesforce/codegen-350M-mono\"\n",
        "tokenizer = AutoTokenizer.from_pretrained(model_id)"
      ],
      "metadata": {
        "id": "qMnzXk5QU__6"
      },
      "execution_count": null,
      "outputs": []
    },
    {
      "cell_type": "code",
      "source": [
        "import torch\n",
        "from transformers import AutoModelForCausalLM\n",
        "\n",
        "device = \"cuda\" if torch.cuda.is_available() else \"cpu\"\n",
        "model = AutoModelForCausalLM.from_pretrained(model_id).to(device)\n",
        "model.eval()"
      ],
      "metadata": {
        "id": "16m1oyC7amcb",
        "outputId": "d894bc53-e86b-42a0-8d10-e9a547104b16",
        "colab": {
          "base_uri": "https://localhost:8080/",
          "height": 633,
          "referenced_widgets": [
            "7050a512be1f4fd983567bc2d1de0e2d",
            "ec58715348d648ceae092bb5c5f00475",
            "17c903991aaa41948dadac6ebb3fea8f",
            "14eb68cb9d6e48b6a9600071d51ee933",
            "2ccc7e8cfe024f9cbbf3b0e7cfdbffc3",
            "5ae098c754fe48daae129ba7d037e351",
            "e8737e053b144113b0c1ea3a9aeb0c68",
            "bd46a2b1adba451599293cdb14ec5077",
            "1ba04379bf52432f99cb62445ac16346",
            "9a976d91428448c8a3fe0b4ae3cab560",
            "af9690bba4564bbebdaf42dff993c65d",
            "2395148a76294e03ac71315bf4f4cf92",
            "390f9c3dcfda476e93eff589f5364af7",
            "23289c69f75d4c13ac499ba9036cf3a8",
            "9214889a4ed04028a6e6da7d44347ec2",
            "9812461ea09c40ba9db3cb9877bce697",
            "f11561623d524e5799627913df11f36f",
            "b46a1faa94134928b2898d13d345a9a6",
            "6196fa0de9444de6b43e7ee1d670feaa",
            "2238670a38d3490c87c2d7f53bd7f1d0",
            "7b797dd731e148e7a246b268562d9e13",
            "8576249566e643f9b331c53bda84b000",
            "d83c9bdd78e84fa9ae8ec607ca11e953",
            "f6c463d5f6a945caa820282cad52003c",
            "7445037c50aa4a7cb33e93d408bea9c8",
            "feaa9c324ee94824b900f654c62ba3d6",
            "991a472320f94dbd8ee1b14dcfc6fac4",
            "ce5786d81b474c10bf9a2020efee8df7",
            "42c860819a2b4ae38f49c837a494b06f",
            "3073394b3be74e4c83a81d5da9cca2ff",
            "2c383a6f713e4c1ab4753896ccead80e",
            "2d8a8858c64b46c393b3ddec5f74c90e",
            "d1f1d3f459e14d519e287950c4f0cd19"
          ]
        }
      },
      "execution_count": 4,
      "outputs": [
        {
          "output_type": "display_data",
          "data": {
            "text/plain": [
              "config.json:   0%|          | 0.00/999 [00:00<?, ?B/s]"
            ],
            "application/vnd.jupyter.widget-view+json": {
              "version_major": 2,
              "version_minor": 0,
              "model_id": "7050a512be1f4fd983567bc2d1de0e2d"
            }
          },
          "metadata": {}
        },
        {
          "output_type": "display_data",
          "data": {
            "text/plain": [
              "pytorch_model.bin:   0%|          | 0.00/797M [00:00<?, ?B/s]"
            ],
            "application/vnd.jupyter.widget-view+json": {
              "version_major": 2,
              "version_minor": 0,
              "model_id": "2395148a76294e03ac71315bf4f4cf92"
            }
          },
          "metadata": {}
        },
        {
          "output_type": "display_data",
          "data": {
            "text/plain": [
              "model.safetensors:   0%|          | 0.00/797M [00:00<?, ?B/s]"
            ],
            "application/vnd.jupyter.widget-view+json": {
              "version_major": 2,
              "version_minor": 0,
              "model_id": "d83c9bdd78e84fa9ae8ec607ca11e953"
            }
          },
          "metadata": {}
        },
        {
          "output_type": "stream",
          "name": "stderr",
          "text": [
            "Some weights of the model checkpoint at Salesforce/codegen-350M-mono were not used when initializing CodeGenForCausalLM: ['transformer.h.0.attn.causal_mask', 'transformer.h.1.attn.causal_mask', 'transformer.h.10.attn.causal_mask', 'transformer.h.11.attn.causal_mask', 'transformer.h.12.attn.causal_mask', 'transformer.h.13.attn.causal_mask', 'transformer.h.14.attn.causal_mask', 'transformer.h.15.attn.causal_mask', 'transformer.h.16.attn.causal_mask', 'transformer.h.17.attn.causal_mask', 'transformer.h.18.attn.causal_mask', 'transformer.h.19.attn.causal_mask', 'transformer.h.2.attn.causal_mask', 'transformer.h.3.attn.causal_mask', 'transformer.h.4.attn.causal_mask', 'transformer.h.5.attn.causal_mask', 'transformer.h.6.attn.causal_mask', 'transformer.h.7.attn.causal_mask', 'transformer.h.8.attn.causal_mask', 'transformer.h.9.attn.causal_mask']\n",
            "- This IS expected if you are initializing CodeGenForCausalLM from the checkpoint of a model trained on another task or with another architecture (e.g. initializing a BertForSequenceClassification model from a BertForPreTraining model).\n",
            "- This IS NOT expected if you are initializing CodeGenForCausalLM from the checkpoint of a model that you expect to be exactly identical (initializing a BertForSequenceClassification model from a BertForSequenceClassification model).\n"
          ]
        },
        {
          "output_type": "execute_result",
          "data": {
            "text/plain": [
              "CodeGenForCausalLM(\n",
              "  (transformer): CodeGenModel(\n",
              "    (wte): Embedding(51200, 1024)\n",
              "    (drop): Dropout(p=0.0, inplace=False)\n",
              "    (h): ModuleList(\n",
              "      (0-19): 20 x CodeGenBlock(\n",
              "        (ln_1): LayerNorm((1024,), eps=1e-05, elementwise_affine=True)\n",
              "        (attn): CodeGenAttention(\n",
              "          (attn_dropout): Dropout(p=0.0, inplace=False)\n",
              "          (resid_dropout): Dropout(p=0.0, inplace=False)\n",
              "          (qkv_proj): Linear(in_features=1024, out_features=3072, bias=False)\n",
              "          (out_proj): Linear(in_features=1024, out_features=1024, bias=False)\n",
              "        )\n",
              "        (mlp): CodeGenMLP(\n",
              "          (fc_in): Linear(in_features=1024, out_features=4096, bias=True)\n",
              "          (fc_out): Linear(in_features=4096, out_features=1024, bias=True)\n",
              "          (act): NewGELUActivation()\n",
              "          (dropout): Dropout(p=0.0, inplace=False)\n",
              "        )\n",
              "      )\n",
              "    )\n",
              "    (ln_f): LayerNorm((1024,), eps=1e-05, elementwise_affine=True)\n",
              "  )\n",
              "  (lm_head): Linear(in_features=1024, out_features=51200, bias=True)\n",
              ")"
            ]
          },
          "metadata": {},
          "execution_count": 4
        }
      ]
    },
    {
      "cell_type": "markdown",
      "source": [
        "Setup the configuration to be used for the model at code generation time."
      ],
      "metadata": {
        "id": "SB6MdcmNae38"
      }
    },
    {
      "cell_type": "code",
      "source": [
        "from transformers import GenerationConfig\n",
        "\n",
        "generation_config = GenerationConfig(\n",
        "    pad_token_id=50256,\n",
        "    truncation=True,\n",
        "    max_length=1000,\n",
        "    max_context_length=1000,\n",
        "    use_cache=True,\n",
        "    return_dict_in_generate=True,\n",
        "    output_scores=True\n",
        ")"
      ],
      "metadata": {
        "id": "uX_syvspwnCF"
      },
      "execution_count": 5,
      "outputs": []
    },
    {
      "cell_type": "markdown",
      "source": [
        "## Load prompt"
      ],
      "metadata": {
        "id": "JmohoFQReiOG"
      }
    },
    {
      "cell_type": "markdown",
      "source": [
        "Define two functions to load the prompts from the JSON file downloaded from the ReCode repo."
      ],
      "metadata": {
        "id": "zZUGpvkOcCTD"
      }
    },
    {
      "cell_type": "code",
      "source": [
        "import json\n",
        "import gzip\n",
        "\n",
        "def read_problems(eval_file):\n",
        "    return {str(task[\"task_id\"]): task for task in stream_jsonl(eval_file)}\n",
        "\n",
        "def stream_jsonl(filename):\n",
        "      with open(filename, \"r\") as fp:\n",
        "          for line in fp:\n",
        "              if any(not x.isspace() for x in line):\n",
        "                  yield json.loads(line)"
      ],
      "metadata": {
        "id": "YU42G0VlVkW7"
      },
      "execution_count": 6,
      "outputs": []
    },
    {
      "cell_type": "markdown",
      "source": [
        "Load the prompt list from the JSON file and then create a single task file for each one."
      ],
      "metadata": {
        "id": "92kkdNxZeH4Q"
      }
    },
    {
      "cell_type": "code",
      "source": [
        "problems_file_path = 'datasets/nominal/HumanEval.jsonl'\n",
        "problems = read_problems(problems_file_path)\n",
        "num_samples = 1\n",
        "batch_size = 1"
      ],
      "metadata": {
        "id": "9ISqIl9V2QCs"
      },
      "execution_count": 7,
      "outputs": []
    },
    {
      "cell_type": "code",
      "source": [
        "import os\n",
        "\n",
        "output_dir = 'output_dir'\n",
        "fpath_format = os.path.join(\n",
        "        output_dir, \"output\", \"taskid-{task_idx}-gen{completion_idx}.json\"\n",
        "    )"
      ],
      "metadata": {
        "id": "UCgNzbz9VnLJ"
      },
      "execution_count": 8,
      "outputs": []
    },
    {
      "cell_type": "markdown",
      "source": [
        "Define a function to count the non-empty prompt samples."
      ],
      "metadata": {
        "id": "GMvlvNvkgr1X"
      }
    },
    {
      "cell_type": "code",
      "source": [
        "def count_files_present_nonemtpy(list_fname):\n",
        "    count = 0\n",
        "    for fname in list_fname:\n",
        "        if os.path.isfile(fname):\n",
        "            f = open(fname, \"r\", encoding=\"utf8\")\n",
        "            s = f.read()\n",
        "            f.close()\n",
        "            if not s == \"\":\n",
        "                count += 1\n",
        "    return count, len(list_fname)"
      ],
      "metadata": {
        "id": "hw5R4u4vANur"
      },
      "execution_count": 9,
      "outputs": []
    },
    {
      "cell_type": "markdown",
      "source": [
        "Define a function to get token position from a string."
      ],
      "metadata": {
        "id": "OpxEwj40gzZS"
      }
    },
    {
      "cell_type": "code",
      "source": [
        "def get_token_position_by_string(target_str, outputs, tokenizer, skip_special_tokens):\n",
        "    for position in range(1, len(outputs) + 1):\n",
        "        gen_str = tokenizer.decode(\n",
        "            outputs[:position],\n",
        "            skip_special_tokens=skip_special_tokens,\n",
        "            clean_up_tokenization_spaces=False,\n",
        "        )\n",
        "        if gen_str.rstrip() == target_str.rstrip():\n",
        "            return position  # not including outputs[position]\n",
        "        if gen_str.startswith(target_str) and target_str != \"\":\n",
        "            print(\"Cannot find an exact match, use approx!\")\n",
        "            print(f\"output length: {len(outputs)}\")\n",
        "            print(target_str)\n",
        "            print(\"-----------------------\")\n",
        "            print(gen_str)\n",
        "            return position\n",
        "    if target_str.rstrip() == \"\":\n",
        "        if target_str == \"\":\n",
        "            print(\"generated empty string!\")\n",
        "        else:\n",
        "            print(\"generated only white space!\")\n",
        "        return 0\n",
        "    print(f\"output length: {len(outputs)}\")\n",
        "    print(target_str)\n",
        "    print(\"-----------------------\")\n",
        "    print(gen_str)\n",
        "    raise RuntimeError(\"Cannot match prefix returned by AST.\")"
      ],
      "metadata": {
        "id": "ejxSz-w8X_4I"
      },
      "execution_count": 10,
      "outputs": []
    },
    {
      "cell_type": "markdown",
      "source": [
        "Define a function to assess if the generated code is a valid Python code. It uses the Python native *ast* package."
      ],
      "metadata": {
        "id": "2aXy4BmeiM2b"
      }
    },
    {
      "cell_type": "code",
      "source": [
        "import ast\n",
        "\n",
        "def is_valid_python(code):\n",
        "    try:\n",
        "        try:\n",
        "            pared_code = ast.parse(code)\n",
        "        except SyntaxError:\n",
        "            return False\n",
        "    except Exception as e:\n",
        "        print(\"Exception: \", e)\n",
        "        return False\n",
        "    return pared_code"
      ],
      "metadata": {
        "id": "c9rikM2rYNho"
      },
      "execution_count": 11,
      "outputs": []
    },
    {
      "cell_type": "markdown",
      "source": [
        "Define a function that grab entire function code from ast."
      ],
      "metadata": {
        "id": "qoomkpk-jih-"
      }
    },
    {
      "cell_type": "code",
      "source": [
        "def get_function_from_ast(parsed_code, code, option=\"func_ast_last\"):\n",
        "    assert option in [\n",
        "        \"func_ast_first\",\n",
        "        \"func_ast_last\",\n",
        "    ], f\"Invalid post process option {option}\"\n",
        "    for i in range(len(parsed_code.body)):\n",
        "        idx = -i - 1 if option == \"func_ast_last\" else i\n",
        "        if type(parsed_code.body[idx]) == ast.FunctionDef:\n",
        "            break\n",
        "        idx = None\n",
        "    assert idx is not None, \"No function found\"\n",
        "    function_segment = ast.get_source_segment(code, parsed_code.body[idx])\n",
        "    position = code.find(function_segment)\n",
        "    function_segment_plus_previous = code[: position + len(function_segment)]\n",
        "    return function_segment_plus_previous"
      ],
      "metadata": {
        "id": "lvmLaMC-YVit"
      },
      "execution_count": 12,
      "outputs": []
    },
    {
      "cell_type": "markdown",
      "source": [
        "Define the function that handles how to decode the generated code and checks that it is valid Python code."
      ],
      "metadata": {
        "id": "XaPqxZC2kAKa"
      }
    },
    {
      "cell_type": "code",
      "source": [
        "def filter_valid_code(\n",
        "    true_str_input,\n",
        "    execution_prompt,\n",
        "    inputs,\n",
        "    sequences,\n",
        "    initial_context_length,\n",
        "    tokenizer,\n",
        "    task_id=None,\n",
        "    has_special_tokens=False,\n",
        "    post_process=\"greedy\",\n",
        "    replace_unk=False,\n",
        "    skip_special_tokens=True,\n",
        "    mean_logp=None,\n",
        "    use_language_tag=0,\n",
        "):\n",
        "    \"\"\"\n",
        "    Due to tokenizer non lossless-ness, the decoded original prompt and\n",
        "    the real original prompt are not the same.\n",
        "\n",
        "    Due to constrained generation, input tokens not not necessarily match\n",
        "    with the new input tokens (but match by characters instead)\n",
        "    \"\"\"\n",
        "    samples = []\n",
        "    # need both to handle CG / non losslessness of tokenizer\n",
        "    decoded_context_string = tokenizer.batch_decode(\n",
        "        inputs[:, use_language_tag:initial_context_length],\n",
        "        skip_special_tokens=skip_special_tokens,\n",
        "        clean_up_tokenization_spaces=False,\n",
        "    )[0]\n",
        "    decoded_original_prompt = tokenizer.batch_decode(\n",
        "        inputs[:, use_language_tag:],\n",
        "        skip_special_tokens=skip_special_tokens,\n",
        "        clean_up_tokenization_spaces=False,\n",
        "    )[0]\n",
        "    processed_prompt = decoded_context_string\n",
        "\n",
        "    assert execution_prompt is None, \"only support execution_prompt is None here\"\n",
        "    processed_execution_prompt = processed_prompt\n",
        "\n",
        "    output_lists = sequences[:, initial_context_length:]\n",
        "    for sample_id, outputs in enumerate(output_lists):\n",
        "        is_valid = False\n",
        "        for position in range(len(outputs), 0, -1):\n",
        "            gen_up_to_pos_toks = outputs[:position]\n",
        "            gen_up_to_pos_str = tokenizer.decode(\n",
        "                gen_up_to_pos_toks,\n",
        "                skip_special_tokens=skip_special_tokens,\n",
        "                clean_up_tokenization_spaces=False,\n",
        "            )\n",
        "            origin_pred = gen_up_to_pos_str\n",
        "            code = (\n",
        "                processed_execution_prompt + gen_up_to_pos_str\n",
        "            )  # something is off for python\n",
        "            parsed_code = is_valid_python(code)\n",
        "            if parsed_code:\n",
        "                is_valid = True\n",
        "                # print(f\"valid at position {position} / {len(outputs) - 1}. \")\n",
        "                if post_process != \"greedy\":\n",
        "                    try:\n",
        "                        function_segment_plus_previous = get_function_from_ast(\n",
        "                            parsed_code,\n",
        "                            code,\n",
        "                            option=post_process,\n",
        "                        )\n",
        "                        generated_part = function_segment_plus_previous[\n",
        "                            len(processed_execution_prompt) :\n",
        "                        ]\n",
        "                    except Exception as e:\n",
        "                        print(\"Something went wrong...\", e)\n",
        "                        generated_part = gen_up_to_pos_str\n",
        "                elif post_process == \"greedy\":\n",
        "                    generated_part = gen_up_to_pos_str\n",
        "                else:\n",
        "                    assert False, f\"post processing method {post_process} not supported\"\n",
        "\n",
        "                if task_id is None:\n",
        "                    return generated_part\n",
        "                if mean_logp is None:\n",
        "                    score = None\n",
        "                else:\n",
        "                    if post_process != \"greedy\":\n",
        "                        position = get_token_position_by_string(\n",
        "                            generated_part,\n",
        "                            outputs,\n",
        "                            tokenizer,\n",
        "                            skip_special_tokens,\n",
        "                        )\n",
        "                    if position == 0:\n",
        "                        score = -1e8\n",
        "                    else:\n",
        "                        score = mean_logp[sample_id][position - 1]\n",
        "\n",
        "                samples.append(\n",
        "                    dict(\n",
        "                        task_id=task_id,\n",
        "                        completion=(processed_prompt + generated_part)[\n",
        "                            len(decoded_original_prompt) :\n",
        "                        ],\n",
        "                        ori_pred=(processed_prompt + origin_pred)[\n",
        "                            len(decoded_original_prompt) :\n",
        "                        ],\n",
        "                        input=true_str_input,\n",
        "                        mean_logp=score,\n",
        "                    )\n",
        "                )\n",
        "                break\n",
        "        if not is_valid:\n",
        "            predictions = tokenizer.decode(\n",
        "                outputs,\n",
        "                skip_special_tokens=skip_special_tokens,\n",
        "                clean_up_tokenization_spaces=False,\n",
        "            )\n",
        "            origin_pred = predictions\n",
        "            print(\"Warning - no valid substring\")\n",
        "            if task_id is None:\n",
        "                return predictions\n",
        "            samples.append(\n",
        "                dict(\n",
        "                    task_id=task_id,\n",
        "                    completion=(processed_prompt + predictions)[\n",
        "                        len(decoded_original_prompt) :\n",
        "                    ],\n",
        "                    ori_pred=(processed_prompt + origin_pred)[\n",
        "                        len(decoded_original_prompt) :\n",
        "                    ],\n",
        "                    input=true_str_input,\n",
        "                    mean_logp=-1e8,\n",
        "                )\n",
        "            )\n",
        "\n",
        "    return samples"
      ],
      "metadata": {
        "id": "UjQdAWG7VMRd"
      },
      "execution_count": 13,
      "outputs": []
    },
    {
      "cell_type": "markdown",
      "source": [
        "Create the output directory. It would be used to save the generated code and the evaluation results too."
      ],
      "metadata": {
        "id": "K7KM6agTkGio"
      }
    },
    {
      "cell_type": "code",
      "source": [
        "!mkdir -p output_dir/output"
      ],
      "metadata": {
        "id": "G0160WQcah7C"
      },
      "execution_count": 14,
      "outputs": []
    },
    {
      "cell_type": "markdown",
      "source": [
        "Start the code generation process. Each sample prompt in the HumanEval dataset is perturebed before being tokenized and sent to the model for Python code generation. At each step, the generated code is assessed to vefify that it is really valid code."
      ],
      "metadata": {
        "id": "sAHwnvj4jP84"
      }
    },
    {
      "cell_type": "code",
      "source": [
        "from tqdm import tqdm\n",
        "\n",
        "override_previous_results = False\n",
        "for enum_idx, task_id in enumerate(tqdm(problems)):\n",
        "        # assume TaskName/ID format. The id part needs not be integer.\n",
        "        task_idx = task_id.split(\"/\")[1]\n",
        "        if not override_previous_results:\n",
        "            fnames = [\n",
        "                fpath_format.format(task_idx=task_idx, completion_idx=_idx)\n",
        "                for _idx in range(num_samples)\n",
        "            ]\n",
        "            count, all_count = count_files_present_nonemtpy(fnames)\n",
        "            if count == all_count:\n",
        "                print(\n",
        "                    f\"Result caching mode: Skipping case {task_id}. Generated all {all_count}\"\n",
        "                )\n",
        "                continue\n",
        "            else:\n",
        "                print(\n",
        "                    f\"Result caching mode: Only {count} out of {all_count} were generated. Regenerating task {task_id}\"\n",
        "                )\n",
        "        execution_prompt = None\n",
        "        prompt = problems[task_id][\"prompt\"]\n",
        "        completion_idx = -1\n",
        "        for i in range(0, num_samples, batch_size):\n",
        "          num_return_sequences = min(num_samples - i, batch_size)\n",
        "          generation_config = GenerationConfig(\n",
        "              pad_token_id=50256,\n",
        "              truncation=True,\n",
        "              max_length=1000,\n",
        "              max_context_length=1000,\n",
        "              use_cache=True,\n",
        "              return_dict_in_generate=True,\n",
        "              output_scores=True\n",
        "          )\n",
        "          inputs = tokenizer(prompt, return_tensors=\"pt\").to(device)\n",
        "          input_ids = inputs.input_ids\n",
        "          output_dict = model.generate(input_ids,\n",
        "                                        generation_config=generation_config)\n",
        "\n",
        "          sequences = output_dict.sequences\n",
        "          initial_context_length = len(sequences[0]) - len(output_dict.scores)\n",
        "\n",
        "          predictions_post_eos = filter_valid_code(\n",
        "                        true_str_input=prompt,\n",
        "                        execution_prompt=execution_prompt,\n",
        "                        inputs=input_ids,\n",
        "                        sequences=sequences,\n",
        "                        initial_context_length=initial_context_length,\n",
        "                        tokenizer=tokenizer,\n",
        "                        task_id=task_id,\n",
        "                        post_process='func_ast_first',\n",
        "                        skip_special_tokens=True,\n",
        "                        mean_logp=None,\n",
        "                    )\n",
        "\n",
        "\n",
        "          for prediction in predictions_post_eos:\n",
        "              completion_idx += 1\n",
        "              fpath = fpath_format.format(\n",
        "                  task_idx=task_idx, completion_idx=completion_idx\n",
        "              )\n",
        "              prediction[\"language\"] = 'python'\n",
        "              with open(fpath, \"w\", encoding=\"utf8\") as _f:\n",
        "                  json.dump(prediction, _f)"
      ],
      "metadata": {
        "id": "atjknT5l7V1d",
        "outputId": "e886f4ba-81e0-42e6-f341-a593b1b76b3e",
        "colab": {
          "base_uri": "https://localhost:8080/"
        }
      },
      "execution_count": 15,
      "outputs": [
        {
          "output_type": "stream",
          "name": "stderr",
          "text": [
            "\r  0%|          | 0/164 [00:00<?, ?it/s]`generation_config` default values have been modified to match model-specific defaults: {'bos_token_id': 1, 'eos_token_id': 50256}. If this is not desired, please set these values explicitly.\n",
            "The attention mask is not set and cannot be inferred from input because pad token is same as eos token. As a consequence, you may observe unexpected behavior. Please pass your input's `attention_mask` to obtain reliable results.\n"
          ]
        },
        {
          "output_type": "stream",
          "name": "stdout",
          "text": [
            "Result caching mode: Only 0 out of 1 were generated. Regenerating task HumanEval/0\n"
          ]
        },
        {
          "output_type": "stream",
          "name": "stderr",
          "text": [
            "\r  1%|          | 1/164 [00:28<1:16:12, 28.05s/it]"
          ]
        },
        {
          "output_type": "stream",
          "name": "stdout",
          "text": [
            "Result caching mode: Only 0 out of 1 were generated. Regenerating task HumanEval/1\n"
          ]
        },
        {
          "output_type": "stream",
          "name": "stderr",
          "text": [
            "\r  1%|          | 2/164 [00:54<1:13:37, 27.27s/it]"
          ]
        },
        {
          "output_type": "stream",
          "name": "stdout",
          "text": [
            "Result caching mode: Only 0 out of 1 were generated. Regenerating task HumanEval/2\n"
          ]
        },
        {
          "output_type": "stream",
          "name": "stderr",
          "text": [
            "\r  2%|▏         | 3/164 [01:22<1:13:25, 27.36s/it]"
          ]
        },
        {
          "output_type": "stream",
          "name": "stdout",
          "text": [
            "Result caching mode: Only 0 out of 1 were generated. Regenerating task HumanEval/3\n"
          ]
        },
        {
          "output_type": "stream",
          "name": "stderr",
          "text": [
            "\r  2%|▏         | 4/164 [01:49<1:12:46, 27.29s/it]"
          ]
        },
        {
          "output_type": "stream",
          "name": "stdout",
          "text": [
            "Result caching mode: Only 0 out of 1 were generated. Regenerating task HumanEval/4\n"
          ]
        },
        {
          "output_type": "stream",
          "name": "stderr",
          "text": [
            "\r  3%|▎         | 5/164 [02:15<1:11:30, 26.98s/it]"
          ]
        },
        {
          "output_type": "stream",
          "name": "stdout",
          "text": [
            "Result caching mode: Only 0 out of 1 were generated. Regenerating task HumanEval/5\n"
          ]
        },
        {
          "output_type": "stream",
          "name": "stderr",
          "text": [
            "\r  4%|▎         | 6/164 [02:43<1:11:35, 27.18s/it]"
          ]
        },
        {
          "output_type": "stream",
          "name": "stdout",
          "text": [
            "Result caching mode: Only 0 out of 1 were generated. Regenerating task HumanEval/6\n"
          ]
        },
        {
          "output_type": "stream",
          "name": "stderr",
          "text": [
            "\r  4%|▍         | 7/164 [03:10<1:10:43, 27.03s/it]"
          ]
        },
        {
          "output_type": "stream",
          "name": "stdout",
          "text": [
            "Result caching mode: Only 0 out of 1 were generated. Regenerating task HumanEval/7\n"
          ]
        },
        {
          "output_type": "stream",
          "name": "stderr",
          "text": [
            "\r  5%|▍         | 8/164 [03:37<1:10:28, 27.11s/it]"
          ]
        },
        {
          "output_type": "stream",
          "name": "stdout",
          "text": [
            "Result caching mode: Only 0 out of 1 were generated. Regenerating task HumanEval/8\n"
          ]
        },
        {
          "output_type": "stream",
          "name": "stderr",
          "text": [
            "\r  5%|▌         | 9/164 [04:04<1:09:53, 27.06s/it]"
          ]
        },
        {
          "output_type": "stream",
          "name": "stdout",
          "text": [
            "Result caching mode: Only 0 out of 1 were generated. Regenerating task HumanEval/9\n"
          ]
        },
        {
          "output_type": "stream",
          "name": "stderr",
          "text": [
            "\r  6%|▌         | 10/164 [04:32<1:10:01, 27.28s/it]"
          ]
        },
        {
          "output_type": "stream",
          "name": "stdout",
          "text": [
            "Result caching mode: Only 0 out of 1 were generated. Regenerating task HumanEval/10\n"
          ]
        },
        {
          "output_type": "stream",
          "name": "stderr",
          "text": [
            "\r  7%|▋         | 11/164 [04:56<1:07:39, 26.54s/it]"
          ]
        },
        {
          "output_type": "stream",
          "name": "stdout",
          "text": [
            "Result caching mode: Only 0 out of 1 were generated. Regenerating task HumanEval/11\n"
          ]
        },
        {
          "output_type": "stream",
          "name": "stderr",
          "text": [
            "\r  7%|▋         | 12/164 [05:24<1:07:37, 26.70s/it]"
          ]
        },
        {
          "output_type": "stream",
          "name": "stdout",
          "text": [
            "Result caching mode: Only 0 out of 1 were generated. Regenerating task HumanEval/12\n"
          ]
        },
        {
          "output_type": "stream",
          "name": "stderr",
          "text": [
            "\r  8%|▊         | 13/164 [05:50<1:07:22, 26.77s/it]"
          ]
        },
        {
          "output_type": "stream",
          "name": "stdout",
          "text": [
            "Result caching mode: Only 0 out of 1 were generated. Regenerating task HumanEval/13\n"
          ]
        },
        {
          "output_type": "stream",
          "name": "stderr",
          "text": [
            "\r  9%|▊         | 14/164 [06:18<1:07:40, 27.07s/it]"
          ]
        },
        {
          "output_type": "stream",
          "name": "stdout",
          "text": [
            "Result caching mode: Only 0 out of 1 were generated. Regenerating task HumanEval/14\n"
          ]
        },
        {
          "output_type": "stream",
          "name": "stderr",
          "text": [
            "\r  9%|▉         | 15/164 [06:47<1:08:22, 27.53s/it]"
          ]
        },
        {
          "output_type": "stream",
          "name": "stdout",
          "text": [
            "Result caching mode: Only 0 out of 1 were generated. Regenerating task HumanEval/15\n"
          ]
        },
        {
          "output_type": "stream",
          "name": "stderr",
          "text": [
            "\r 10%|▉         | 16/164 [07:15<1:08:43, 27.86s/it]"
          ]
        },
        {
          "output_type": "stream",
          "name": "stdout",
          "text": [
            "Result caching mode: Only 0 out of 1 were generated. Regenerating task HumanEval/16\n"
          ]
        },
        {
          "output_type": "stream",
          "name": "stderr",
          "text": [
            "\r 10%|█         | 17/164 [07:43<1:08:13, 27.85s/it]"
          ]
        },
        {
          "output_type": "stream",
          "name": "stdout",
          "text": [
            "Result caching mode: Only 0 out of 1 were generated. Regenerating task HumanEval/17\n"
          ]
        },
        {
          "output_type": "stream",
          "name": "stderr",
          "text": [
            "\r 11%|█         | 18/164 [08:08<1:05:43, 27.01s/it]"
          ]
        },
        {
          "output_type": "stream",
          "name": "stdout",
          "text": [
            "Result caching mode: Only 0 out of 1 were generated. Regenerating task HumanEval/18\n"
          ]
        },
        {
          "output_type": "stream",
          "name": "stderr",
          "text": [
            "\r 12%|█▏        | 19/164 [08:36<1:05:38, 27.16s/it]"
          ]
        },
        {
          "output_type": "stream",
          "name": "stdout",
          "text": [
            "Result caching mode: Only 0 out of 1 were generated. Regenerating task HumanEval/19\n"
          ]
        },
        {
          "output_type": "stream",
          "name": "stderr",
          "text": [
            "\r 12%|█▏        | 20/164 [09:03<1:05:17, 27.21s/it]"
          ]
        },
        {
          "output_type": "stream",
          "name": "stdout",
          "text": [
            "Result caching mode: Only 0 out of 1 were generated. Regenerating task HumanEval/20\n"
          ]
        },
        {
          "output_type": "stream",
          "name": "stderr",
          "text": [
            "\r 13%|█▎        | 21/164 [09:29<1:03:34, 26.67s/it]"
          ]
        },
        {
          "output_type": "stream",
          "name": "stdout",
          "text": [
            "Result caching mode: Only 0 out of 1 were generated. Regenerating task HumanEval/21\n"
          ]
        },
        {
          "output_type": "stream",
          "name": "stderr",
          "text": [
            "\r 13%|█▎        | 22/164 [09:56<1:03:18, 26.75s/it]"
          ]
        },
        {
          "output_type": "stream",
          "name": "stdout",
          "text": [
            "Result caching mode: Only 0 out of 1 were generated. Regenerating task HumanEval/22\n"
          ]
        },
        {
          "output_type": "stream",
          "name": "stderr",
          "text": [
            "\r 14%|█▍        | 23/164 [10:23<1:03:15, 26.92s/it]"
          ]
        },
        {
          "output_type": "stream",
          "name": "stdout",
          "text": [
            "Result caching mode: Only 0 out of 1 were generated. Regenerating task HumanEval/23\n"
          ]
        },
        {
          "output_type": "stream",
          "name": "stderr",
          "text": [
            "\r 15%|█▍        | 24/164 [10:52<1:04:06, 27.47s/it]"
          ]
        },
        {
          "output_type": "stream",
          "name": "stdout",
          "text": [
            "Result caching mode: Only 0 out of 1 were generated. Regenerating task HumanEval/24\n"
          ]
        },
        {
          "output_type": "stream",
          "name": "stderr",
          "text": [
            "\r 15%|█▌        | 25/164 [10:58<48:52, 21.10s/it]  "
          ]
        },
        {
          "output_type": "stream",
          "name": "stdout",
          "text": [
            "Result caching mode: Only 0 out of 1 were generated. Regenerating task HumanEval/25\n"
          ]
        },
        {
          "output_type": "stream",
          "name": "stderr",
          "text": [
            "\r 16%|█▌        | 26/164 [11:25<52:35, 22.87s/it]"
          ]
        },
        {
          "output_type": "stream",
          "name": "stdout",
          "text": [
            "Result caching mode: Only 0 out of 1 were generated. Regenerating task HumanEval/26\n"
          ]
        },
        {
          "output_type": "stream",
          "name": "stderr",
          "text": [
            "\r 16%|█▋        | 27/164 [11:52<55:02, 24.11s/it]"
          ]
        },
        {
          "output_type": "stream",
          "name": "stdout",
          "text": [
            "Result caching mode: Only 0 out of 1 were generated. Regenerating task HumanEval/27\n"
          ]
        },
        {
          "output_type": "stream",
          "name": "stderr",
          "text": [
            "\r 17%|█▋        | 28/164 [12:21<57:55, 25.56s/it]"
          ]
        },
        {
          "output_type": "stream",
          "name": "stdout",
          "text": [
            "Result caching mode: Only 0 out of 1 were generated. Regenerating task HumanEval/28\n"
          ]
        },
        {
          "output_type": "stream",
          "name": "stderr",
          "text": [
            "\r 18%|█▊        | 29/164 [12:48<58:54, 26.18s/it]"
          ]
        },
        {
          "output_type": "stream",
          "name": "stdout",
          "text": [
            "Result caching mode: Only 0 out of 1 were generated. Regenerating task HumanEval/29\n"
          ]
        },
        {
          "output_type": "stream",
          "name": "stderr",
          "text": [
            "\r 18%|█▊        | 30/164 [13:15<59:01, 26.43s/it]"
          ]
        },
        {
          "output_type": "stream",
          "name": "stdout",
          "text": [
            "Result caching mode: Only 0 out of 1 were generated. Regenerating task HumanEval/30\n"
          ]
        },
        {
          "output_type": "stream",
          "name": "stderr",
          "text": [
            "\r 19%|█▉        | 31/164 [13:43<59:35, 26.88s/it]"
          ]
        },
        {
          "output_type": "stream",
          "name": "stdout",
          "text": [
            "Result caching mode: Only 0 out of 1 were generated. Regenerating task HumanEval/31\n"
          ]
        },
        {
          "output_type": "stream",
          "name": "stderr",
          "text": [
            "\r 20%|█▉        | 32/164 [14:10<59:03, 26.85s/it]"
          ]
        },
        {
          "output_type": "stream",
          "name": "stdout",
          "text": [
            "Result caching mode: Only 0 out of 1 were generated. Regenerating task HumanEval/32\n"
          ]
        },
        {
          "output_type": "stream",
          "name": "stderr",
          "text": [
            "\r 20%|██        | 33/164 [14:32<55:12, 25.28s/it]"
          ]
        },
        {
          "output_type": "stream",
          "name": "stdout",
          "text": [
            "Result caching mode: Only 0 out of 1 were generated. Regenerating task HumanEval/33\n"
          ]
        },
        {
          "output_type": "stream",
          "name": "stderr",
          "text": [
            "\r 21%|██        | 34/164 [14:58<55:07, 25.44s/it]"
          ]
        },
        {
          "output_type": "stream",
          "name": "stdout",
          "text": [
            "Result caching mode: Only 0 out of 1 were generated. Regenerating task HumanEval/34\n"
          ]
        },
        {
          "output_type": "stream",
          "name": "stderr",
          "text": [
            "\r 21%|██▏       | 35/164 [15:26<56:31, 26.29s/it]"
          ]
        },
        {
          "output_type": "stream",
          "name": "stdout",
          "text": [
            "Result caching mode: Only 0 out of 1 were generated. Regenerating task HumanEval/35\n"
          ]
        },
        {
          "output_type": "stream",
          "name": "stderr",
          "text": [
            "\r 22%|██▏       | 36/164 [15:54<57:00, 26.73s/it]"
          ]
        },
        {
          "output_type": "stream",
          "name": "stdout",
          "text": [
            "Result caching mode: Only 0 out of 1 were generated. Regenerating task HumanEval/36\n"
          ]
        },
        {
          "output_type": "stream",
          "name": "stderr",
          "text": [
            "\r 23%|██▎       | 37/164 [16:21<57:17, 27.07s/it]"
          ]
        },
        {
          "output_type": "stream",
          "name": "stdout",
          "text": [
            "Result caching mode: Only 0 out of 1 were generated. Regenerating task HumanEval/37\n"
          ]
        },
        {
          "output_type": "stream",
          "name": "stderr",
          "text": [
            "\r 23%|██▎       | 38/164 [16:48<56:26, 26.88s/it]"
          ]
        },
        {
          "output_type": "stream",
          "name": "stdout",
          "text": [
            "Result caching mode: Only 0 out of 1 were generated. Regenerating task HumanEval/38\n"
          ]
        },
        {
          "output_type": "stream",
          "name": "stderr",
          "text": [
            "\r 24%|██▍       | 39/164 [16:54<42:55, 20.60s/it]"
          ]
        },
        {
          "output_type": "stream",
          "name": "stdout",
          "text": [
            "Result caching mode: Only 0 out of 1 were generated. Regenerating task HumanEval/39\n"
          ]
        },
        {
          "output_type": "stream",
          "name": "stderr",
          "text": [
            "\r 24%|██▍       | 40/164 [17:21<46:56, 22.71s/it]"
          ]
        },
        {
          "output_type": "stream",
          "name": "stdout",
          "text": [
            "Result caching mode: Only 0 out of 1 were generated. Regenerating task HumanEval/40\n"
          ]
        },
        {
          "output_type": "stream",
          "name": "stderr",
          "text": [
            "\r 25%|██▌       | 41/164 [17:46<47:28, 23.16s/it]"
          ]
        },
        {
          "output_type": "stream",
          "name": "stdout",
          "text": [
            "Result caching mode: Only 0 out of 1 were generated. Regenerating task HumanEval/41\n"
          ]
        },
        {
          "output_type": "stream",
          "name": "stderr",
          "text": [
            "\r 26%|██▌       | 42/164 [18:11<48:27, 23.83s/it]"
          ]
        },
        {
          "output_type": "stream",
          "name": "stdout",
          "text": [
            "Result caching mode: Only 0 out of 1 were generated. Regenerating task HumanEval/42\n"
          ]
        },
        {
          "output_type": "stream",
          "name": "stderr",
          "text": [
            "\r 26%|██▌       | 43/164 [18:38<49:49, 24.71s/it]"
          ]
        },
        {
          "output_type": "stream",
          "name": "stdout",
          "text": [
            "Result caching mode: Only 0 out of 1 were generated. Regenerating task HumanEval/43\n"
          ]
        },
        {
          "output_type": "stream",
          "name": "stderr",
          "text": [
            "\r 27%|██▋       | 44/164 [19:02<49:18, 24.66s/it]"
          ]
        },
        {
          "output_type": "stream",
          "name": "stdout",
          "text": [
            "Result caching mode: Only 0 out of 1 were generated. Regenerating task HumanEval/44\n"
          ]
        },
        {
          "output_type": "stream",
          "name": "stderr",
          "text": [
            "\r 27%|██▋       | 45/164 [19:05<35:41, 17.99s/it]"
          ]
        },
        {
          "output_type": "stream",
          "name": "stdout",
          "text": [
            "Result caching mode: Only 0 out of 1 were generated. Regenerating task HumanEval/45\n"
          ]
        },
        {
          "output_type": "stream",
          "name": "stderr",
          "text": [
            "\r 28%|██▊       | 46/164 [19:34<41:50, 21.28s/it]"
          ]
        },
        {
          "output_type": "stream",
          "name": "stdout",
          "text": [
            "Result caching mode: Only 0 out of 1 were generated. Regenerating task HumanEval/46\n"
          ]
        },
        {
          "output_type": "stream",
          "name": "stderr",
          "text": [
            "\r 29%|██▊       | 47/164 [19:58<43:29, 22.30s/it]"
          ]
        },
        {
          "output_type": "stream",
          "name": "stdout",
          "text": [
            "Result caching mode: Only 0 out of 1 were generated. Regenerating task HumanEval/47\n"
          ]
        },
        {
          "output_type": "stream",
          "name": "stderr",
          "text": [
            "\r 29%|██▉       | 48/164 [20:26<46:16, 23.94s/it]"
          ]
        },
        {
          "output_type": "stream",
          "name": "stdout",
          "text": [
            "Result caching mode: Only 0 out of 1 were generated. Regenerating task HumanEval/48\n"
          ]
        },
        {
          "output_type": "stream",
          "name": "stderr",
          "text": [
            "\r 30%|██▉       | 49/164 [20:53<47:32, 24.81s/it]"
          ]
        },
        {
          "output_type": "stream",
          "name": "stdout",
          "text": [
            "Result caching mode: Only 0 out of 1 were generated. Regenerating task HumanEval/49\n"
          ]
        },
        {
          "output_type": "stream",
          "name": "stderr",
          "text": [
            "\r 30%|███       | 50/164 [21:19<48:02, 25.29s/it]"
          ]
        },
        {
          "output_type": "stream",
          "name": "stdout",
          "text": [
            "Result caching mode: Only 0 out of 1 were generated. Regenerating task HumanEval/50\n"
          ]
        },
        {
          "output_type": "stream",
          "name": "stderr",
          "text": [
            "\r 31%|███       | 51/164 [21:46<48:27, 25.73s/it]"
          ]
        },
        {
          "output_type": "stream",
          "name": "stdout",
          "text": [
            "Result caching mode: Only 0 out of 1 were generated. Regenerating task HumanEval/51\n"
          ]
        },
        {
          "output_type": "stream",
          "name": "stderr",
          "text": [
            "\r 32%|███▏      | 52/164 [22:12<47:59, 25.71s/it]"
          ]
        },
        {
          "output_type": "stream",
          "name": "stdout",
          "text": [
            "Result caching mode: Only 0 out of 1 were generated. Regenerating task HumanEval/52\n"
          ]
        },
        {
          "output_type": "stream",
          "name": "stderr",
          "text": [
            "\r 32%|███▏      | 53/164 [22:39<48:12, 26.06s/it]"
          ]
        },
        {
          "output_type": "stream",
          "name": "stdout",
          "text": [
            "Result caching mode: Only 0 out of 1 were generated. Regenerating task HumanEval/53\n"
          ]
        },
        {
          "output_type": "stream",
          "name": "stderr",
          "text": [
            "\r 33%|███▎      | 54/164 [23:06<48:31, 26.47s/it]"
          ]
        },
        {
          "output_type": "stream",
          "name": "stdout",
          "text": [
            "Result caching mode: Only 0 out of 1 were generated. Regenerating task HumanEval/54\n"
          ]
        },
        {
          "output_type": "stream",
          "name": "stderr",
          "text": [
            "\r 34%|███▎      | 55/164 [23:31<46:57, 25.85s/it]"
          ]
        },
        {
          "output_type": "stream",
          "name": "stdout",
          "text": [
            "Result caching mode: Only 0 out of 1 were generated. Regenerating task HumanEval/55\n"
          ]
        },
        {
          "output_type": "stream",
          "name": "stderr",
          "text": [
            "\r 34%|███▍      | 56/164 [23:59<47:46, 26.54s/it]"
          ]
        },
        {
          "output_type": "stream",
          "name": "stdout",
          "text": [
            "Result caching mode: Only 0 out of 1 were generated. Regenerating task HumanEval/56\n"
          ]
        },
        {
          "output_type": "stream",
          "name": "stderr",
          "text": [
            "\r 35%|███▍      | 57/164 [24:26<47:51, 26.84s/it]"
          ]
        },
        {
          "output_type": "stream",
          "name": "stdout",
          "text": [
            "Result caching mode: Only 0 out of 1 were generated. Regenerating task HumanEval/57\n"
          ]
        },
        {
          "output_type": "stream",
          "name": "stderr",
          "text": [
            "\r 35%|███▌      | 58/164 [24:53<47:31, 26.90s/it]"
          ]
        },
        {
          "output_type": "stream",
          "name": "stdout",
          "text": [
            "Result caching mode: Only 0 out of 1 were generated. Regenerating task HumanEval/58\n"
          ]
        },
        {
          "output_type": "stream",
          "name": "stderr",
          "text": [
            "\r 36%|███▌      | 59/164 [25:20<47:00, 26.86s/it]"
          ]
        },
        {
          "output_type": "stream",
          "name": "stdout",
          "text": [
            "Result caching mode: Only 0 out of 1 were generated. Regenerating task HumanEval/59\n"
          ]
        },
        {
          "output_type": "stream",
          "name": "stderr",
          "text": [
            "\r 37%|███▋      | 60/164 [25:48<46:54, 27.07s/it]"
          ]
        },
        {
          "output_type": "stream",
          "name": "stdout",
          "text": [
            "Result caching mode: Only 0 out of 1 were generated. Regenerating task HumanEval/60\n"
          ]
        },
        {
          "output_type": "stream",
          "name": "stderr",
          "text": [
            "\r 37%|███▋      | 61/164 [26:15<46:30, 27.09s/it]"
          ]
        },
        {
          "output_type": "stream",
          "name": "stdout",
          "text": [
            "Result caching mode: Only 0 out of 1 were generated. Regenerating task HumanEval/61\n"
          ]
        },
        {
          "output_type": "stream",
          "name": "stderr",
          "text": [
            "\r 38%|███▊      | 62/164 [26:42<45:57, 27.04s/it]"
          ]
        },
        {
          "output_type": "stream",
          "name": "stdout",
          "text": [
            "Result caching mode: Only 0 out of 1 were generated. Regenerating task HumanEval/62\n"
          ]
        },
        {
          "output_type": "stream",
          "name": "stderr",
          "text": [
            "\r 38%|███▊      | 63/164 [27:08<45:12, 26.85s/it]"
          ]
        },
        {
          "output_type": "stream",
          "name": "stdout",
          "text": [
            "Result caching mode: Only 0 out of 1 were generated. Regenerating task HumanEval/63\n"
          ]
        },
        {
          "output_type": "stream",
          "name": "stderr",
          "text": [
            "\r 39%|███▉      | 64/164 [27:33<43:49, 26.30s/it]"
          ]
        },
        {
          "output_type": "stream",
          "name": "stdout",
          "text": [
            "Result caching mode: Only 0 out of 1 were generated. Regenerating task HumanEval/64\n"
          ]
        },
        {
          "output_type": "stream",
          "name": "stderr",
          "text": [
            "\r 40%|███▉      | 65/164 [27:40<33:46, 20.47s/it]"
          ]
        },
        {
          "output_type": "stream",
          "name": "stdout",
          "text": [
            "Result caching mode: Only 0 out of 1 were generated. Regenerating task HumanEval/65\n"
          ]
        },
        {
          "output_type": "stream",
          "name": "stderr",
          "text": [
            "\r 40%|████      | 66/164 [27:43<24:53, 15.24s/it]"
          ]
        },
        {
          "output_type": "stream",
          "name": "stdout",
          "text": [
            "Result caching mode: Only 0 out of 1 were generated. Regenerating task HumanEval/66\n"
          ]
        },
        {
          "output_type": "stream",
          "name": "stderr",
          "text": [
            "\r 41%|████      | 67/164 [27:45<17:58, 11.12s/it]"
          ]
        },
        {
          "output_type": "stream",
          "name": "stdout",
          "text": [
            "Result caching mode: Only 0 out of 1 were generated. Regenerating task HumanEval/67\n"
          ]
        },
        {
          "output_type": "stream",
          "name": "stderr",
          "text": [
            "\r 41%|████▏     | 68/164 [28:08<23:47, 14.87s/it]"
          ]
        },
        {
          "output_type": "stream",
          "name": "stdout",
          "text": [
            "Result caching mode: Only 0 out of 1 were generated. Regenerating task HumanEval/68\n"
          ]
        },
        {
          "output_type": "stream",
          "name": "stderr",
          "text": [
            "\r 42%|████▏     | 69/164 [28:21<22:26, 14.18s/it]"
          ]
        },
        {
          "output_type": "stream",
          "name": "stdout",
          "text": [
            "Result caching mode: Only 0 out of 1 were generated. Regenerating task HumanEval/69\n"
          ]
        },
        {
          "output_type": "stream",
          "name": "stderr",
          "text": [
            "\r 43%|████▎     | 70/164 [28:26<18:02, 11.52s/it]"
          ]
        },
        {
          "output_type": "stream",
          "name": "stdout",
          "text": [
            "Result caching mode: Only 0 out of 1 were generated. Regenerating task HumanEval/70\n"
          ]
        },
        {
          "output_type": "stream",
          "name": "stderr",
          "text": [
            "\r 43%|████▎     | 71/164 [28:53<24:51, 16.04s/it]"
          ]
        },
        {
          "output_type": "stream",
          "name": "stdout",
          "text": [
            "Result caching mode: Only 0 out of 1 were generated. Regenerating task HumanEval/71\n"
          ]
        },
        {
          "output_type": "stream",
          "name": "stderr",
          "text": [
            "\r 44%|████▍     | 72/164 [29:18<29:04, 18.96s/it]"
          ]
        },
        {
          "output_type": "stream",
          "name": "stdout",
          "text": [
            "Result caching mode: Only 0 out of 1 were generated. Regenerating task HumanEval/72\n"
          ]
        },
        {
          "output_type": "stream",
          "name": "stderr",
          "text": [
            "\r 45%|████▍     | 73/164 [29:41<30:25, 20.06s/it]"
          ]
        },
        {
          "output_type": "stream",
          "name": "stdout",
          "text": [
            "Result caching mode: Only 0 out of 1 were generated. Regenerating task HumanEval/73\n"
          ]
        },
        {
          "output_type": "stream",
          "name": "stderr",
          "text": [
            "\r 45%|████▌     | 74/164 [29:46<23:17, 15.52s/it]"
          ]
        },
        {
          "output_type": "stream",
          "name": "stdout",
          "text": [
            "Result caching mode: Only 0 out of 1 were generated. Regenerating task HumanEval/74\n"
          ]
        },
        {
          "output_type": "stream",
          "name": "stderr",
          "text": [
            "\r 46%|████▌     | 75/164 [30:09<26:26, 17.83s/it]"
          ]
        },
        {
          "output_type": "stream",
          "name": "stdout",
          "text": [
            "Result caching mode: Only 0 out of 1 were generated. Regenerating task HumanEval/75\n"
          ]
        },
        {
          "output_type": "stream",
          "name": "stderr",
          "text": [
            "\r 46%|████▋     | 76/164 [30:36<30:14, 20.62s/it]"
          ]
        },
        {
          "output_type": "stream",
          "name": "stdout",
          "text": [
            "Result caching mode: Only 0 out of 1 were generated. Regenerating task HumanEval/76\n"
          ]
        },
        {
          "output_type": "stream",
          "name": "stderr",
          "text": [
            "\r 47%|████▋     | 77/164 [31:02<31:59, 22.07s/it]"
          ]
        },
        {
          "output_type": "stream",
          "name": "stdout",
          "text": [
            "Result caching mode: Only 0 out of 1 were generated. Regenerating task HumanEval/77\n"
          ]
        },
        {
          "output_type": "stream",
          "name": "stderr",
          "text": [
            "\r 48%|████▊     | 78/164 [31:28<33:27, 23.34s/it]"
          ]
        },
        {
          "output_type": "stream",
          "name": "stdout",
          "text": [
            "Result caching mode: Only 0 out of 1 were generated. Regenerating task HumanEval/78\n"
          ]
        },
        {
          "output_type": "stream",
          "name": "stderr",
          "text": [
            "\r 48%|████▊     | 79/164 [31:48<31:47, 22.45s/it]"
          ]
        },
        {
          "output_type": "stream",
          "name": "stdout",
          "text": [
            "Result caching mode: Only 0 out of 1 were generated. Regenerating task HumanEval/79\n"
          ]
        },
        {
          "output_type": "stream",
          "name": "stderr",
          "text": [
            "\r 49%|████▉     | 80/164 [32:13<32:30, 23.22s/it]"
          ]
        },
        {
          "output_type": "stream",
          "name": "stdout",
          "text": [
            "Result caching mode: Only 0 out of 1 were generated. Regenerating task HumanEval/80\n"
          ]
        },
        {
          "output_type": "stream",
          "name": "stderr",
          "text": [
            "\r 49%|████▉     | 81/164 [32:18<24:27, 17.68s/it]"
          ]
        },
        {
          "output_type": "stream",
          "name": "stdout",
          "text": [
            "Result caching mode: Only 0 out of 1 were generated. Regenerating task HumanEval/81\n"
          ]
        },
        {
          "output_type": "stream",
          "name": "stderr",
          "text": [
            "\r 50%|█████     | 82/164 [32:39<25:33, 18.70s/it]"
          ]
        },
        {
          "output_type": "stream",
          "name": "stdout",
          "text": [
            "Result caching mode: Only 0 out of 1 were generated. Regenerating task HumanEval/82\n"
          ]
        },
        {
          "output_type": "stream",
          "name": "stderr",
          "text": [
            "\r 51%|█████     | 83/164 [33:07<28:55, 21.42s/it]"
          ]
        },
        {
          "output_type": "stream",
          "name": "stdout",
          "text": [
            "Result caching mode: Only 0 out of 1 were generated. Regenerating task HumanEval/83\n"
          ]
        },
        {
          "output_type": "stream",
          "name": "stderr",
          "text": [
            "\r 51%|█████     | 84/164 [33:35<31:09, 23.37s/it]"
          ]
        },
        {
          "output_type": "stream",
          "name": "stdout",
          "text": [
            "Result caching mode: Only 0 out of 1 were generated. Regenerating task HumanEval/84\n"
          ]
        },
        {
          "output_type": "stream",
          "name": "stderr",
          "text": [
            "\r 52%|█████▏    | 85/164 [33:38<22:42, 17.24s/it]"
          ]
        },
        {
          "output_type": "stream",
          "name": "stdout",
          "text": [
            "Result caching mode: Only 0 out of 1 were generated. Regenerating task HumanEval/85\n"
          ]
        },
        {
          "output_type": "stream",
          "name": "stderr",
          "text": [
            "\r 52%|█████▏    | 86/164 [34:06<26:40, 20.52s/it]"
          ]
        },
        {
          "output_type": "stream",
          "name": "stdout",
          "text": [
            "Result caching mode: Only 0 out of 1 were generated. Regenerating task HumanEval/86\n"
          ]
        },
        {
          "output_type": "stream",
          "name": "stderr",
          "text": [
            "\r 53%|█████▎    | 87/164 [34:09<19:23, 15.11s/it]"
          ]
        },
        {
          "output_type": "stream",
          "name": "stdout",
          "text": [
            "Result caching mode: Only 0 out of 1 were generated. Regenerating task HumanEval/87\n"
          ]
        },
        {
          "output_type": "stream",
          "name": "stderr",
          "text": [
            "\r 54%|█████▎    | 88/164 [34:30<21:34, 17.03s/it]"
          ]
        },
        {
          "output_type": "stream",
          "name": "stdout",
          "text": [
            "Result caching mode: Only 0 out of 1 were generated. Regenerating task HumanEval/88\n"
          ]
        },
        {
          "output_type": "stream",
          "name": "stderr",
          "text": [
            "\r 54%|█████▍    | 89/164 [34:54<23:52, 19.10s/it]"
          ]
        },
        {
          "output_type": "stream",
          "name": "stdout",
          "text": [
            "Result caching mode: Only 0 out of 1 were generated. Regenerating task HumanEval/89\n"
          ]
        },
        {
          "output_type": "stream",
          "name": "stderr",
          "text": [
            "\r 55%|█████▍    | 90/164 [35:02<19:21, 15.69s/it]"
          ]
        },
        {
          "output_type": "stream",
          "name": "stdout",
          "text": [
            "Result caching mode: Only 0 out of 1 were generated. Regenerating task HumanEval/90\n"
          ]
        },
        {
          "output_type": "stream",
          "name": "stderr",
          "text": [
            "\r 55%|█████▌    | 91/164 [35:27<22:45, 18.70s/it]"
          ]
        },
        {
          "output_type": "stream",
          "name": "stdout",
          "text": [
            "Result caching mode: Only 0 out of 1 were generated. Regenerating task HumanEval/91\n"
          ]
        },
        {
          "output_type": "stream",
          "name": "stderr",
          "text": [
            "\r 56%|█████▌    | 92/164 [35:31<16:57, 14.13s/it]"
          ]
        },
        {
          "output_type": "stream",
          "name": "stdout",
          "text": [
            "Result caching mode: Only 0 out of 1 were generated. Regenerating task HumanEval/92\n"
          ]
        },
        {
          "output_type": "stream",
          "name": "stderr",
          "text": [
            "\r 57%|█████▋    | 93/164 [35:56<20:32, 17.36s/it]"
          ]
        },
        {
          "output_type": "stream",
          "name": "stdout",
          "text": [
            "Result caching mode: Only 0 out of 1 were generated. Regenerating task HumanEval/93\n"
          ]
        },
        {
          "output_type": "stream",
          "name": "stderr",
          "text": [
            "\r 57%|█████▋    | 94/164 [36:21<23:07, 19.83s/it]"
          ]
        },
        {
          "output_type": "stream",
          "name": "stdout",
          "text": [
            "Result caching mode: Only 0 out of 1 were generated. Regenerating task HumanEval/94\n"
          ]
        },
        {
          "output_type": "stream",
          "name": "stderr",
          "text": [
            "\r 58%|█████▊    | 95/164 [36:23<16:30, 14.35s/it]"
          ]
        },
        {
          "output_type": "stream",
          "name": "stdout",
          "text": [
            "Result caching mode: Only 0 out of 1 were generated. Regenerating task HumanEval/95\n"
          ]
        },
        {
          "output_type": "stream",
          "name": "stderr",
          "text": [
            "\r 59%|█████▊    | 96/164 [36:47<19:23, 17.11s/it]"
          ]
        },
        {
          "output_type": "stream",
          "name": "stdout",
          "text": [
            "Result caching mode: Only 0 out of 1 were generated. Regenerating task HumanEval/96\n"
          ]
        },
        {
          "output_type": "stream",
          "name": "stderr",
          "text": [
            "\r 59%|█████▉    | 97/164 [37:12<21:44, 19.48s/it]"
          ]
        },
        {
          "output_type": "stream",
          "name": "stdout",
          "text": [
            "Result caching mode: Only 0 out of 1 were generated. Regenerating task HumanEval/97\n"
          ]
        },
        {
          "output_type": "stream",
          "name": "stderr",
          "text": [
            "\r 60%|█████▉    | 98/164 [37:38<23:50, 21.68s/it]"
          ]
        },
        {
          "output_type": "stream",
          "name": "stdout",
          "text": [
            "Result caching mode: Only 0 out of 1 were generated. Regenerating task HumanEval/98\n"
          ]
        },
        {
          "output_type": "stream",
          "name": "stderr",
          "text": [
            "\r 60%|██████    | 99/164 [38:06<25:23, 23.44s/it]"
          ]
        },
        {
          "output_type": "stream",
          "name": "stdout",
          "text": [
            "Result caching mode: Only 0 out of 1 were generated. Regenerating task HumanEval/99\n"
          ]
        },
        {
          "output_type": "stream",
          "name": "stderr",
          "text": [
            "\r 61%|██████    | 100/164 [38:31<25:23, 23.80s/it]"
          ]
        },
        {
          "output_type": "stream",
          "name": "stdout",
          "text": [
            "Result caching mode: Only 0 out of 1 were generated. Regenerating task HumanEval/100\n"
          ]
        },
        {
          "output_type": "stream",
          "name": "stderr",
          "text": [
            "\r 62%|██████▏   | 101/164 [38:56<25:27, 24.24s/it]"
          ]
        },
        {
          "output_type": "stream",
          "name": "stdout",
          "text": [
            "Result caching mode: Only 0 out of 1 were generated. Regenerating task HumanEval/101\n"
          ]
        },
        {
          "output_type": "stream",
          "name": "stderr",
          "text": [
            "\r 62%|██████▏   | 102/164 [39:21<25:29, 24.67s/it]"
          ]
        },
        {
          "output_type": "stream",
          "name": "stdout",
          "text": [
            "Result caching mode: Only 0 out of 1 were generated. Regenerating task HumanEval/102\n"
          ]
        },
        {
          "output_type": "stream",
          "name": "stderr",
          "text": [
            "\r 63%|██████▎   | 103/164 [39:26<19:05, 18.78s/it]"
          ]
        },
        {
          "output_type": "stream",
          "name": "stdout",
          "text": [
            "Result caching mode: Only 0 out of 1 were generated. Regenerating task HumanEval/103\n"
          ]
        },
        {
          "output_type": "stream",
          "name": "stderr",
          "text": [
            "\r 63%|██████▎   | 104/164 [39:52<20:54, 20.92s/it]"
          ]
        },
        {
          "output_type": "stream",
          "name": "stdout",
          "text": [
            "Result caching mode: Only 0 out of 1 were generated. Regenerating task HumanEval/104\n"
          ]
        },
        {
          "output_type": "stream",
          "name": "stderr",
          "text": [
            "\r 64%|██████▍   | 105/164 [40:19<22:23, 22.76s/it]"
          ]
        },
        {
          "output_type": "stream",
          "name": "stdout",
          "text": [
            "Result caching mode: Only 0 out of 1 were generated. Regenerating task HumanEval/105\n"
          ]
        },
        {
          "output_type": "stream",
          "name": "stderr",
          "text": [
            "\r 65%|██████▍   | 106/164 [40:41<21:38, 22.39s/it]"
          ]
        },
        {
          "output_type": "stream",
          "name": "stdout",
          "text": [
            "Result caching mode: Only 0 out of 1 were generated. Regenerating task HumanEval/106\n"
          ]
        },
        {
          "output_type": "stream",
          "name": "stderr",
          "text": [
            "\r 65%|██████▌   | 107/164 [40:44<15:39, 16.49s/it]"
          ]
        },
        {
          "output_type": "stream",
          "name": "stdout",
          "text": [
            "Result caching mode: Only 0 out of 1 were generated. Regenerating task HumanEval/107\n"
          ]
        },
        {
          "output_type": "stream",
          "name": "stderr",
          "text": [
            "\r 66%|██████▌   | 108/164 [41:07<17:21, 18.60s/it]"
          ]
        },
        {
          "output_type": "stream",
          "name": "stdout",
          "text": [
            "Result caching mode: Only 0 out of 1 were generated. Regenerating task HumanEval/108\n"
          ]
        },
        {
          "output_type": "stream",
          "name": "stderr",
          "text": [
            "\r 66%|██████▋   | 109/164 [41:33<19:07, 20.86s/it]"
          ]
        },
        {
          "output_type": "stream",
          "name": "stdout",
          "text": [
            "Result caching mode: Only 0 out of 1 were generated. Regenerating task HumanEval/109\n"
          ]
        },
        {
          "output_type": "stream",
          "name": "stderr",
          "text": [
            "\r 67%|██████▋   | 110/164 [41:54<18:41, 20.77s/it]"
          ]
        },
        {
          "output_type": "stream",
          "name": "stdout",
          "text": [
            "Result caching mode: Only 0 out of 1 were generated. Regenerating task HumanEval/110\n"
          ]
        },
        {
          "output_type": "stream",
          "name": "stderr",
          "text": [
            "\r 68%|██████▊   | 111/164 [41:58<13:59, 15.83s/it]"
          ]
        },
        {
          "output_type": "stream",
          "name": "stdout",
          "text": [
            "Result caching mode: Only 0 out of 1 were generated. Regenerating task HumanEval/111\n"
          ]
        },
        {
          "output_type": "stream",
          "name": "stderr",
          "text": [
            "\r 68%|██████▊   | 112/164 [42:01<10:23, 11.98s/it]"
          ]
        },
        {
          "output_type": "stream",
          "name": "stdout",
          "text": [
            "Result caching mode: Only 0 out of 1 were generated. Regenerating task HumanEval/112\n"
          ]
        },
        {
          "output_type": "stream",
          "name": "stderr",
          "text": [
            "\r 69%|██████▉   | 113/164 [42:26<13:23, 15.75s/it]"
          ]
        },
        {
          "output_type": "stream",
          "name": "stdout",
          "text": [
            "Result caching mode: Only 0 out of 1 were generated. Regenerating task HumanEval/113\n"
          ]
        },
        {
          "output_type": "stream",
          "name": "stderr",
          "text": [
            "\r 70%|██████▉   | 114/164 [42:50<15:17, 18.34s/it]"
          ]
        },
        {
          "output_type": "stream",
          "name": "stdout",
          "text": [
            "Result caching mode: Only 0 out of 1 were generated. Regenerating task HumanEval/114\n"
          ]
        },
        {
          "output_type": "stream",
          "name": "stderr",
          "text": [
            "\r 70%|███████   | 115/164 [43:17<17:01, 20.86s/it]"
          ]
        },
        {
          "output_type": "stream",
          "name": "stdout",
          "text": [
            "Result caching mode: Only 0 out of 1 were generated. Regenerating task HumanEval/115\n"
          ]
        },
        {
          "output_type": "stream",
          "name": "stderr",
          "text": [
            "\r 71%|███████   | 116/164 [43:37<16:26, 20.56s/it]"
          ]
        },
        {
          "output_type": "stream",
          "name": "stdout",
          "text": [
            "Result caching mode: Only 0 out of 1 were generated. Regenerating task HumanEval/116\n"
          ]
        },
        {
          "output_type": "stream",
          "name": "stderr",
          "text": [
            "\r 71%|███████▏  | 117/164 [44:02<17:06, 21.83s/it]"
          ]
        },
        {
          "output_type": "stream",
          "name": "stdout",
          "text": [
            "Result caching mode: Only 0 out of 1 were generated. Regenerating task HumanEval/117\n"
          ]
        },
        {
          "output_type": "stream",
          "name": "stderr",
          "text": [
            "\r 72%|███████▏  | 118/164 [44:26<17:15, 22.52s/it]"
          ]
        },
        {
          "output_type": "stream",
          "name": "stdout",
          "text": [
            "Result caching mode: Only 0 out of 1 were generated. Regenerating task HumanEval/118\n"
          ]
        },
        {
          "output_type": "stream",
          "name": "stderr",
          "text": [
            "\r 73%|███████▎  | 119/164 [44:50<17:14, 22.99s/it]"
          ]
        },
        {
          "output_type": "stream",
          "name": "stdout",
          "text": [
            "Result caching mode: Only 0 out of 1 were generated. Regenerating task HumanEval/119\n"
          ]
        },
        {
          "output_type": "stream",
          "name": "stderr",
          "text": [
            "\r 73%|███████▎  | 120/164 [45:14<17:07, 23.35s/it]"
          ]
        },
        {
          "output_type": "stream",
          "name": "stdout",
          "text": [
            "Result caching mode: Only 0 out of 1 were generated. Regenerating task HumanEval/120\n"
          ]
        },
        {
          "output_type": "stream",
          "name": "stderr",
          "text": [
            "\r 74%|███████▍  | 121/164 [45:37<16:44, 23.36s/it]"
          ]
        },
        {
          "output_type": "stream",
          "name": "stdout",
          "text": [
            "Result caching mode: Only 0 out of 1 were generated. Regenerating task HumanEval/121\n"
          ]
        },
        {
          "output_type": "stream",
          "name": "stderr",
          "text": [
            "\r 74%|███████▍  | 122/164 [45:40<12:04, 17.26s/it]"
          ]
        },
        {
          "output_type": "stream",
          "name": "stdout",
          "text": [
            "Result caching mode: Only 0 out of 1 were generated. Regenerating task HumanEval/122\n"
          ]
        },
        {
          "output_type": "stream",
          "name": "stderr",
          "text": [
            "\r 75%|███████▌  | 123/164 [46:07<13:38, 19.97s/it]"
          ]
        },
        {
          "output_type": "stream",
          "name": "stdout",
          "text": [
            "Result caching mode: Only 0 out of 1 were generated. Regenerating task HumanEval/123\n"
          ]
        },
        {
          "output_type": "stream",
          "name": "stderr",
          "text": [
            "\r 76%|███████▌  | 124/164 [46:31<14:09, 21.24s/it]"
          ]
        },
        {
          "output_type": "stream",
          "name": "stdout",
          "text": [
            "Result caching mode: Only 0 out of 1 were generated. Regenerating task HumanEval/124\n"
          ]
        },
        {
          "output_type": "stream",
          "name": "stderr",
          "text": [
            "\r 76%|███████▌  | 125/164 [46:53<14:04, 21.64s/it]"
          ]
        },
        {
          "output_type": "stream",
          "name": "stdout",
          "text": [
            "Result caching mode: Only 0 out of 1 were generated. Regenerating task HumanEval/125\n"
          ]
        },
        {
          "output_type": "stream",
          "name": "stderr",
          "text": [
            "\r 77%|███████▋  | 126/164 [47:19<14:28, 22.85s/it]"
          ]
        },
        {
          "output_type": "stream",
          "name": "stdout",
          "text": [
            "Result caching mode: Only 0 out of 1 were generated. Regenerating task HumanEval/126\n"
          ]
        },
        {
          "output_type": "stream",
          "name": "stderr",
          "text": [
            "\r 77%|███████▋  | 127/164 [47:42<14:08, 22.94s/it]"
          ]
        },
        {
          "output_type": "stream",
          "name": "stdout",
          "text": [
            "Result caching mode: Only 0 out of 1 were generated. Regenerating task HumanEval/127\n"
          ]
        },
        {
          "output_type": "stream",
          "name": "stderr",
          "text": [
            "\r 78%|███████▊  | 128/164 [48:04<13:35, 22.65s/it]"
          ]
        },
        {
          "output_type": "stream",
          "name": "stdout",
          "text": [
            "Result caching mode: Only 0 out of 1 were generated. Regenerating task HumanEval/128\n"
          ]
        },
        {
          "output_type": "stream",
          "name": "stderr",
          "text": [
            "\r 79%|███████▊  | 129/164 [48:31<13:55, 23.86s/it]"
          ]
        },
        {
          "output_type": "stream",
          "name": "stdout",
          "text": [
            "Result caching mode: Only 0 out of 1 were generated. Regenerating task HumanEval/129\n"
          ]
        },
        {
          "output_type": "stream",
          "name": "stderr",
          "text": [
            "\r 79%|███████▉  | 130/164 [48:49<12:30, 22.09s/it]"
          ]
        },
        {
          "output_type": "stream",
          "name": "stdout",
          "text": [
            "Result caching mode: Only 0 out of 1 were generated. Regenerating task HumanEval/130\n"
          ]
        },
        {
          "output_type": "stream",
          "name": "stderr",
          "text": [
            "\r 80%|███████▉  | 131/164 [49:12<12:18, 22.37s/it]"
          ]
        },
        {
          "output_type": "stream",
          "name": "stdout",
          "text": [
            "Result caching mode: Only 0 out of 1 were generated. Regenerating task HumanEval/131\n"
          ]
        },
        {
          "output_type": "stream",
          "name": "stderr",
          "text": [
            "\r 80%|████████  | 132/164 [49:18<09:22, 17.58s/it]"
          ]
        },
        {
          "output_type": "stream",
          "name": "stdout",
          "text": [
            "Result caching mode: Only 0 out of 1 were generated. Regenerating task HumanEval/132\n"
          ]
        },
        {
          "output_type": "stream",
          "name": "stderr",
          "text": [
            "\r 81%|████████  | 133/164 [49:44<10:19, 19.98s/it]"
          ]
        },
        {
          "output_type": "stream",
          "name": "stdout",
          "text": [
            "Result caching mode: Only 0 out of 1 were generated. Regenerating task HumanEval/133\n"
          ]
        },
        {
          "output_type": "stream",
          "name": "stderr",
          "text": [
            "\r 82%|████████▏ | 134/164 [50:09<10:47, 21.58s/it]"
          ]
        },
        {
          "output_type": "stream",
          "name": "stdout",
          "text": [
            "Result caching mode: Only 0 out of 1 were generated. Regenerating task HumanEval/134\n"
          ]
        },
        {
          "output_type": "stream",
          "name": "stderr",
          "text": [
            "\r 82%|████████▏ | 135/164 [50:34<10:52, 22.50s/it]"
          ]
        },
        {
          "output_type": "stream",
          "name": "stdout",
          "text": [
            "Result caching mode: Only 0 out of 1 were generated. Regenerating task HumanEval/135\n"
          ]
        },
        {
          "output_type": "stream",
          "name": "stderr",
          "text": [
            "\r 83%|████████▎ | 136/164 [51:02<11:15, 24.13s/it]"
          ]
        },
        {
          "output_type": "stream",
          "name": "stdout",
          "text": [
            "Result caching mode: Only 0 out of 1 were generated. Regenerating task HumanEval/136\n"
          ]
        },
        {
          "output_type": "stream",
          "name": "stderr",
          "text": [
            "\r 84%|████████▎ | 137/164 [51:27<11:04, 24.60s/it]"
          ]
        },
        {
          "output_type": "stream",
          "name": "stdout",
          "text": [
            "Result caching mode: Only 0 out of 1 were generated. Regenerating task HumanEval/137\n"
          ]
        },
        {
          "output_type": "stream",
          "name": "stderr",
          "text": [
            "\r 84%|████████▍ | 138/164 [51:53<10:43, 24.74s/it]"
          ]
        },
        {
          "output_type": "stream",
          "name": "stdout",
          "text": [
            "Result caching mode: Only 0 out of 1 were generated. Regenerating task HumanEval/138\n"
          ]
        },
        {
          "output_type": "stream",
          "name": "stderr",
          "text": [
            "\r 85%|████████▍ | 139/164 [52:20<10:36, 25.47s/it]"
          ]
        },
        {
          "output_type": "stream",
          "name": "stdout",
          "text": [
            "Result caching mode: Only 0 out of 1 were generated. Regenerating task HumanEval/139\n"
          ]
        },
        {
          "output_type": "stream",
          "name": "stderr",
          "text": [
            "\r 85%|████████▌ | 140/164 [52:46<10:17, 25.74s/it]"
          ]
        },
        {
          "output_type": "stream",
          "name": "stdout",
          "text": [
            "Result caching mode: Only 0 out of 1 were generated. Regenerating task HumanEval/140\n"
          ]
        },
        {
          "output_type": "stream",
          "name": "stderr",
          "text": [
            "\r 86%|████████▌ | 141/164 [53:14<10:04, 26.26s/it]"
          ]
        },
        {
          "output_type": "stream",
          "name": "stdout",
          "text": [
            "Result caching mode: Only 0 out of 1 were generated. Regenerating task HumanEval/141\n"
          ]
        },
        {
          "output_type": "stream",
          "name": "stderr",
          "text": [
            "\r 87%|████████▋ | 142/164 [53:37<09:22, 25.55s/it]"
          ]
        },
        {
          "output_type": "stream",
          "name": "stdout",
          "text": [
            "Result caching mode: Only 0 out of 1 were generated. Regenerating task HumanEval/142\n"
          ]
        },
        {
          "output_type": "stream",
          "name": "stderr",
          "text": [
            "\r 87%|████████▋ | 143/164 [54:03<08:54, 25.47s/it]"
          ]
        },
        {
          "output_type": "stream",
          "name": "stdout",
          "text": [
            "Result caching mode: Only 0 out of 1 were generated. Regenerating task HumanEval/143\n"
          ]
        },
        {
          "output_type": "stream",
          "name": "stderr",
          "text": [
            "\r 88%|████████▊ | 144/164 [54:28<08:28, 25.43s/it]"
          ]
        },
        {
          "output_type": "stream",
          "name": "stdout",
          "text": [
            "Result caching mode: Only 0 out of 1 were generated. Regenerating task HumanEval/144\n"
          ]
        },
        {
          "output_type": "stream",
          "name": "stderr",
          "text": [
            "\r 88%|████████▊ | 145/164 [54:53<07:59, 25.24s/it]"
          ]
        },
        {
          "output_type": "stream",
          "name": "stdout",
          "text": [
            "Result caching mode: Only 0 out of 1 were generated. Regenerating task HumanEval/145\n"
          ]
        },
        {
          "output_type": "stream",
          "name": "stderr",
          "text": [
            "\r 89%|████████▉ | 146/164 [55:18<07:35, 25.33s/it]"
          ]
        },
        {
          "output_type": "stream",
          "name": "stdout",
          "text": [
            "Result caching mode: Only 0 out of 1 were generated. Regenerating task HumanEval/146\n"
          ]
        },
        {
          "output_type": "stream",
          "name": "stderr",
          "text": [
            "\r 90%|████████▉ | 147/164 [55:21<05:16, 18.59s/it]"
          ]
        },
        {
          "output_type": "stream",
          "name": "stdout",
          "text": [
            "Result caching mode: Only 0 out of 1 were generated. Regenerating task HumanEval/147\n"
          ]
        },
        {
          "output_type": "stream",
          "name": "stderr",
          "text": [
            "\r 90%|█████████ | 148/164 [55:46<05:27, 20.48s/it]"
          ]
        },
        {
          "output_type": "stream",
          "name": "stdout",
          "text": [
            "Result caching mode: Only 0 out of 1 were generated. Regenerating task HumanEval/148\n"
          ]
        },
        {
          "output_type": "stream",
          "name": "stderr",
          "text": [
            "\r 91%|█████████ | 149/164 [56:09<05:19, 21.30s/it]"
          ]
        },
        {
          "output_type": "stream",
          "name": "stdout",
          "text": [
            "Result caching mode: Only 0 out of 1 were generated. Regenerating task HumanEval/149\n"
          ]
        },
        {
          "output_type": "stream",
          "name": "stderr",
          "text": [
            "\r 91%|█████████▏| 150/164 [56:33<05:09, 22.13s/it]"
          ]
        },
        {
          "output_type": "stream",
          "name": "stdout",
          "text": [
            "Result caching mode: Only 0 out of 1 were generated. Regenerating task HumanEval/150\n"
          ]
        },
        {
          "output_type": "stream",
          "name": "stderr",
          "text": [
            "\r 92%|█████████▏| 151/164 [57:01<05:07, 23.64s/it]"
          ]
        },
        {
          "output_type": "stream",
          "name": "stdout",
          "text": [
            "Result caching mode: Only 0 out of 1 were generated. Regenerating task HumanEval/151\n"
          ]
        },
        {
          "output_type": "stream",
          "name": "stderr",
          "text": [
            "\r 93%|█████████▎| 152/164 [57:26<04:51, 24.25s/it]"
          ]
        },
        {
          "output_type": "stream",
          "name": "stdout",
          "text": [
            "Result caching mode: Only 0 out of 1 were generated. Regenerating task HumanEval/152\n"
          ]
        },
        {
          "output_type": "stream",
          "name": "stderr",
          "text": [
            "\r 93%|█████████▎| 153/164 [57:49<04:21, 23.77s/it]"
          ]
        },
        {
          "output_type": "stream",
          "name": "stdout",
          "text": [
            "Result caching mode: Only 0 out of 1 were generated. Regenerating task HumanEval/153\n"
          ]
        },
        {
          "output_type": "stream",
          "name": "stderr",
          "text": [
            "\r 94%|█████████▍| 154/164 [58:10<03:49, 22.99s/it]"
          ]
        },
        {
          "output_type": "stream",
          "name": "stdout",
          "text": [
            "Result caching mode: Only 0 out of 1 were generated. Regenerating task HumanEval/154\n"
          ]
        },
        {
          "output_type": "stream",
          "name": "stderr",
          "text": [
            "\r 95%|█████████▍| 155/164 [58:35<03:33, 23.68s/it]"
          ]
        },
        {
          "output_type": "stream",
          "name": "stdout",
          "text": [
            "Result caching mode: Only 0 out of 1 were generated. Regenerating task HumanEval/155\n"
          ]
        },
        {
          "output_type": "stream",
          "name": "stderr",
          "text": [
            "\r 95%|█████████▌| 156/164 [59:03<03:19, 24.96s/it]"
          ]
        },
        {
          "output_type": "stream",
          "name": "stdout",
          "text": [
            "Result caching mode: Only 0 out of 1 were generated. Regenerating task HumanEval/156\n"
          ]
        },
        {
          "output_type": "stream",
          "name": "stderr",
          "text": [
            "\r 96%|█████████▌| 157/164 [59:11<02:19, 19.87s/it]"
          ]
        },
        {
          "output_type": "stream",
          "name": "stdout",
          "text": [
            "Result caching mode: Only 0 out of 1 were generated. Regenerating task HumanEval/157\n"
          ]
        },
        {
          "output_type": "stream",
          "name": "stderr",
          "text": [
            "\r 96%|█████████▋| 158/164 [59:38<02:10, 21.79s/it]"
          ]
        },
        {
          "output_type": "stream",
          "name": "stdout",
          "text": [
            "Result caching mode: Only 0 out of 1 were generated. Regenerating task HumanEval/158\n"
          ]
        },
        {
          "output_type": "stream",
          "name": "stderr",
          "text": [
            "\r 97%|█████████▋| 159/164 [1:00:05<01:56, 23.39s/it]"
          ]
        },
        {
          "output_type": "stream",
          "name": "stdout",
          "text": [
            "Result caching mode: Only 0 out of 1 were generated. Regenerating task HumanEval/159\n"
          ]
        },
        {
          "output_type": "stream",
          "name": "stderr",
          "text": [
            "\r 98%|█████████▊| 160/164 [1:00:27<01:32, 23.17s/it]"
          ]
        },
        {
          "output_type": "stream",
          "name": "stdout",
          "text": [
            "Result caching mode: Only 0 out of 1 were generated. Regenerating task HumanEval/160\n"
          ]
        },
        {
          "output_type": "stream",
          "name": "stderr",
          "text": [
            "\r 98%|█████████▊| 161/164 [1:00:30<00:51, 17.03s/it]"
          ]
        },
        {
          "output_type": "stream",
          "name": "stdout",
          "text": [
            "Result caching mode: Only 0 out of 1 were generated. Regenerating task HumanEval/161\n"
          ]
        },
        {
          "output_type": "stream",
          "name": "stderr",
          "text": [
            "\r 99%|█████████▉| 162/164 [1:00:33<00:25, 12.94s/it]"
          ]
        },
        {
          "output_type": "stream",
          "name": "stdout",
          "text": [
            "Result caching mode: Only 0 out of 1 were generated. Regenerating task HumanEval/162\n"
          ]
        },
        {
          "output_type": "stream",
          "name": "stderr",
          "text": [
            "\r 99%|█████████▉| 163/164 [1:01:01<00:17, 17.30s/it]"
          ]
        },
        {
          "output_type": "stream",
          "name": "stdout",
          "text": [
            "Result caching mode: Only 0 out of 1 were generated. Regenerating task HumanEval/163\n"
          ]
        },
        {
          "output_type": "stream",
          "name": "stderr",
          "text": [
            "100%|██████████| 164/164 [1:01:27<00:00, 22.49s/it]\n"
          ]
        }
      ]
    },
    {
      "cell_type": "markdown",
      "source": [
        "### Correctness Evaluation Process"
      ],
      "metadata": {
        "id": "yTrzmeWtq2N3"
      }
    },
    {
      "cell_type": "markdown",
      "source": [
        "The code in the cell below is to overwrite the same from the HumanEval package, as the line responsible for the execution of the generated code is commented in the original for safety reasons. Please be careful when evaluating Python code generated by LLMs."
      ],
      "metadata": {
        "id": "qaDYxdSUBOVJ"
      }
    },
    {
      "cell_type": "code",
      "source": [
        "from typing import Optional, Callable, Dict\n",
        "import ast\n",
        "import contextlib\n",
        "import faulthandler\n",
        "import io\n",
        "import os\n",
        "import multiprocessing\n",
        "import platform\n",
        "import signal\n",
        "import tempfile\n",
        "\n",
        "\n",
        "def custom_check_correctness(problem: Dict, completion: str, timeout: float,\n",
        "                      completion_id: Optional[int] = None) -> Dict:\n",
        "    \"\"\"\n",
        "    Evaluates the functional correctness of a completion by running the test\n",
        "    suite provided in the problem.\n",
        "\n",
        "    :param completion_id: an optional completion ID so we can match\n",
        "        the results later even if execution finishes asynchronously.\n",
        "    \"\"\"\n",
        "\n",
        "    def unsafe_execute():\n",
        "\n",
        "        with create_tempdir():\n",
        "\n",
        "            # These system calls are needed when cleaning up tempdir.\n",
        "            import os\n",
        "            import shutil\n",
        "            rmtree = shutil.rmtree\n",
        "            rmdir = os.rmdir\n",
        "            chdir = os.chdir\n",
        "\n",
        "            # Disable functionalities that can make destructive changes to the test.\n",
        "            reliability_guard()\n",
        "\n",
        "            # Construct the check program and run it.\n",
        "            check_program = (\n",
        "                problem[\"prompt\"] + completion + \"\\n\" +\n",
        "                problem[\"test\"] + \"\\n\" +\n",
        "                f\"check({problem['entry_point']})\"\n",
        "            )\n",
        "\n",
        "            try:\n",
        "                exec_globals = {}\n",
        "                with swallow_io():\n",
        "                    with time_limit(timeout):\n",
        "                      exec(check_program, exec_globals)\n",
        "                      result.append(\"passed\")\n",
        "            except TimeoutException:\n",
        "                result.append(\"timed out\")\n",
        "            except BaseException as e:\n",
        "                result.append(f\"failed: {e}\")\n",
        "\n",
        "            # Needed for cleaning up.\n",
        "            shutil.rmtree = rmtree\n",
        "            os.rmdir = rmdir\n",
        "            os.chdir = chdir\n",
        "\n",
        "    manager = multiprocessing.Manager()\n",
        "    result = manager.list()\n",
        "\n",
        "    p = multiprocessing.Process(target=unsafe_execute)\n",
        "    p.start()\n",
        "    p.join(timeout=timeout + 1)\n",
        "    if p.is_alive():\n",
        "        p.kill()\n",
        "\n",
        "    if not result:\n",
        "        result.append(\"timed out\")\n",
        "\n",
        "    return dict(\n",
        "        task_id=problem[\"task_id\"],\n",
        "        passed=result[0] == \"passed\",\n",
        "        result=result[0],\n",
        "        completion_id=completion_id,\n",
        "    )\n",
        "\n",
        "\n",
        "@contextlib.contextmanager\n",
        "def time_limit(seconds: float):\n",
        "    def signal_handler(signum, frame):\n",
        "        raise TimeoutException(\"Timed out!\")\n",
        "    signal.setitimer(signal.ITIMER_REAL, seconds)\n",
        "    signal.signal(signal.SIGALRM, signal_handler)\n",
        "    try:\n",
        "        yield\n",
        "    finally:\n",
        "        signal.setitimer(signal.ITIMER_REAL, 0)\n",
        "\n",
        "\n",
        "@contextlib.contextmanager\n",
        "def swallow_io():\n",
        "    stream = WriteOnlyStringIO()\n",
        "    with contextlib.redirect_stdout(stream):\n",
        "        with contextlib.redirect_stderr(stream):\n",
        "            with redirect_stdin(stream):\n",
        "                yield\n",
        "\n",
        "\n",
        "@contextlib.contextmanager\n",
        "def create_tempdir():\n",
        "    with tempfile.TemporaryDirectory() as dirname:\n",
        "        with chdir(dirname):\n",
        "            yield dirname\n",
        "\n",
        "\n",
        "class TimeoutException(Exception):\n",
        "    pass\n",
        "\n",
        "\n",
        "class WriteOnlyStringIO(io.StringIO):\n",
        "    \"\"\" StringIO that throws an exception when it's read from \"\"\"\n",
        "\n",
        "    def read(self, *args, **kwargs):\n",
        "        raise IOError\n",
        "\n",
        "    def readline(self, *args, **kwargs):\n",
        "        raise IOError\n",
        "\n",
        "    def readlines(self, *args, **kwargs):\n",
        "        raise IOError\n",
        "\n",
        "    def readable(self, *args, **kwargs):\n",
        "        \"\"\" Returns True if the IO object can be read. \"\"\"\n",
        "        return False\n",
        "\n",
        "\n",
        "class redirect_stdin(contextlib._RedirectStream):  # type: ignore\n",
        "    _stream = 'stdin'\n",
        "\n",
        "\n",
        "@contextlib.contextmanager\n",
        "def chdir(root):\n",
        "    if root == \".\":\n",
        "        yield\n",
        "        return\n",
        "    cwd = os.getcwd()\n",
        "    os.chdir(root)\n",
        "    try:\n",
        "        yield\n",
        "    except BaseException as exc:\n",
        "        raise exc\n",
        "    finally:\n",
        "        os.chdir(cwd)\n",
        "\n",
        "\n",
        "def reliability_guard(maximum_memory_bytes: Optional[int] = None):\n",
        "    \"\"\"\n",
        "    This disables various destructive functions and prevents the generated code\n",
        "    from interfering with the test (e.g. fork bomb, killing other processes,\n",
        "    removing filesystem files, etc.)\n",
        "\n",
        "    WARNING\n",
        "    This function is NOT a security sandbox. Untrusted code, including, model-\n",
        "    generated code, should not be blindly executed outside of one. See the\n",
        "    Codex paper for more information about OpenAI's code sandbox, and proceed\n",
        "    with caution.\n",
        "    \"\"\"\n",
        "\n",
        "    if maximum_memory_bytes is not None:\n",
        "        import resource\n",
        "        resource.setrlimit(resource.RLIMIT_AS, (maximum_memory_bytes, maximum_memory_bytes))\n",
        "        resource.setrlimit(resource.RLIMIT_DATA, (maximum_memory_bytes, maximum_memory_bytes))\n",
        "        if not platform.uname().system == 'Darwin':\n",
        "            resource.setrlimit(resource.RLIMIT_STACK, (maximum_memory_bytes, maximum_memory_bytes))\n",
        "\n",
        "    faulthandler.disable()\n",
        "\n",
        "    import builtins\n",
        "    builtins.exit = None\n",
        "    builtins.quit = None\n",
        "\n",
        "    import os\n",
        "    os.environ['OMP_NUM_THREADS'] = '1'\n",
        "\n",
        "    os.kill = None\n",
        "    os.system = None\n",
        "    os.putenv = None\n",
        "    os.remove = None\n",
        "    os.removedirs = None\n",
        "    os.rmdir = None\n",
        "    os.fchdir = None\n",
        "    os.setuid = None\n",
        "    os.fork = None\n",
        "    os.forkpty = None\n",
        "    os.killpg = None\n",
        "    os.rename = None\n",
        "    os.renames = None\n",
        "    os.truncate = None\n",
        "    os.replace = None\n",
        "    os.unlink = None\n",
        "    os.fchmod = None\n",
        "    os.fchown = None\n",
        "    os.chmod = None\n",
        "    os.chown = None\n",
        "    os.chroot = None\n",
        "    os.fchdir = None\n",
        "    os.lchflags = None\n",
        "    os.lchmod = None\n",
        "    os.lchown = None\n",
        "    os.getcwd = None\n",
        "    os.chdir = None\n",
        "\n",
        "    import shutil\n",
        "    shutil.rmtree = None\n",
        "    shutil.move = None\n",
        "    shutil.chown = None\n",
        "\n",
        "    import subprocess\n",
        "    subprocess.Popen = None  # type: ignore\n",
        "\n",
        "    __builtins__['help'] = None\n",
        "\n",
        "    import sys\n",
        "    sys.modules['ipdb'] = None\n",
        "    sys.modules['joblib'] = None\n",
        "    sys.modules['resource'] = None\n",
        "    sys.modules['psutil'] = None\n",
        "    sys.modules['tkinter'] = None\n"
      ],
      "metadata": {
        "id": "Eg0BAwYnmkyx"
      },
      "execution_count": 16,
      "outputs": []
    },
    {
      "cell_type": "markdown",
      "source": [
        "The code in the cell below is to implement a custom function to run the code correctness steps, to overcome the limitation in the HumanEval library explained above."
      ],
      "metadata": {
        "id": "B37JuADJBv4Q"
      }
    },
    {
      "cell_type": "code",
      "source": [
        "from collections import defaultdict, Counter\n",
        "from concurrent.futures import ThreadPoolExecutor, as_completed\n",
        "from typing import List, Union, Iterable, Dict\n",
        "import itertools\n",
        "\n",
        "import numpy as np\n",
        "import tqdm\n",
        "\n",
        "from human_eval.data import HUMAN_EVAL, read_problems, stream_jsonl, write_jsonl\n",
        "\n",
        "def estimate_pass_at_k(\n",
        "    num_samples: Union[int, List[int], np.ndarray],\n",
        "    num_correct: Union[List[int], np.ndarray],\n",
        "    k: int\n",
        ") -> np.ndarray:\n",
        "    \"\"\"\n",
        "    Estimates pass@k of each problem and returns them in an array.\n",
        "    \"\"\"\n",
        "\n",
        "    def estimator(n: int, c: int, k: int) -> float:\n",
        "        \"\"\"\n",
        "        Calculates 1 - comb(n - c, k) / comb(n, k).\n",
        "        \"\"\"\n",
        "        if n - c < k:\n",
        "            return 1.0\n",
        "        return 1.0 - np.prod(1.0 - k / np.arange(n - c + 1, n + 1))\n",
        "\n",
        "    if isinstance(num_samples, int):\n",
        "        num_samples_it = itertools.repeat(num_samples, len(num_correct))\n",
        "    else:\n",
        "        assert len(num_samples) == len(num_correct)\n",
        "        num_samples_it = iter(num_samples)\n",
        "\n",
        "    return np.array([estimator(int(n), int(c), k) for n, c in zip(num_samples_it, num_correct)])\n",
        "\n",
        "\n",
        "def custom_evaluate_functional_correctness(\n",
        "    sample_file: str,\n",
        "    k: List[int] = [1, 10, 100],\n",
        "    n_workers: int = 4,\n",
        "    timeout: float = 3.0,\n",
        "    problem_file: str = HUMAN_EVAL,\n",
        "):\n",
        "    \"\"\"\n",
        "    Evaluates the functional correctness of generated samples, and writes\n",
        "    results to f\"{sample_file}_results.jsonl.gz\"\n",
        "    \"\"\"\n",
        "\n",
        "    problems = read_problems(problem_file)\n",
        "\n",
        "    # Check the generated samples against test suites.\n",
        "    with ThreadPoolExecutor(max_workers=n_workers) as executor:\n",
        "\n",
        "        futures = []\n",
        "        completion_id = Counter()\n",
        "        n_samples = 0\n",
        "        results = defaultdict(list)\n",
        "\n",
        "        print(\"Reading samples...\")\n",
        "        for sample in tqdm.tqdm(stream_jsonl(sample_file)):\n",
        "            task_id = sample[\"task_id\"]\n",
        "            completion = sample[\"completion\"]\n",
        "            args = (problems[task_id], completion, timeout, completion_id[task_id])\n",
        "            future = executor.submit(custom_check_correctness, *args)\n",
        "            futures.append(future)\n",
        "            completion_id[task_id] += 1\n",
        "            n_samples += 1\n",
        "\n",
        "        assert len(completion_id) == len(problems), \"Some problems are not attempted.\"\n",
        "\n",
        "        print(\"Running test suites...\")\n",
        "        for future in tqdm.tqdm(as_completed(futures), total=len(futures)):\n",
        "            result = future.result()\n",
        "            results[result[\"task_id\"]].append((result[\"completion_id\"], result))\n",
        "\n",
        "    # Calculate pass@k.\n",
        "    total, correct = [], []\n",
        "    for result in results.values():\n",
        "        result.sort()\n",
        "        passed = [r[1][\"passed\"] for r in result]\n",
        "        total.append(len(passed))\n",
        "        correct.append(sum(passed))\n",
        "    total = np.array(total)\n",
        "    correct = np.array(correct)\n",
        "\n",
        "    ks = k\n",
        "    pass_at_k = {f\"pass@{k}\": estimate_pass_at_k(total, correct, k).mean()\n",
        "                 for k in ks if (total >= k).all()}\n",
        "\n",
        "    # Finally, save the results in one file:\n",
        "    def combine_results():\n",
        "        for sample in stream_jsonl(sample_file):\n",
        "            task_id = sample[\"task_id\"]\n",
        "            result = results[task_id].pop(0)\n",
        "            sample[\"result\"] = result[1][\"result\"]\n",
        "            sample[\"passed\"] = result[1][\"passed\"]\n",
        "            yield sample\n",
        "\n",
        "    out_file = sample_file + \"_results.jsonl\"\n",
        "    print(f\"Writing results to {out_file}...\")\n",
        "    write_jsonl(out_file, tqdm.tqdm(combine_results(), total=n_samples))\n",
        "\n",
        "    return pass_at_k\n"
      ],
      "metadata": {
        "id": "8uLDejbelvpN"
      },
      "execution_count": 17,
      "outputs": []
    },
    {
      "cell_type": "markdown",
      "source": [
        "Execute the code correctness evaluation on the 164 samples. The results are aggregated and saved in a single JSON file. The *passed* attribute contains the result of a test (true or false are the only possible values for it)."
      ],
      "metadata": {
        "id": "g-j--npQCCMC"
      }
    },
    {
      "cell_type": "code",
      "source": [
        "import fire\n",
        "import sys\n",
        "import glob\n",
        "import os\n",
        "\n",
        "def entry_point(\n",
        "    sample_dir: str = '/content/output_dir/output/',\n",
        "    k: str = \"1,10,100\",\n",
        "    n_workers: int = 2,\n",
        "    timeout: float = 3.0,\n",
        "    problem_file: str = '/content/datasets/nominal/HumanEval.jsonl',\n",
        "):\n",
        "    \"\"\"\n",
        "    Evaluates the functional correctness of generated samples, and writes\n",
        "    results to f\"{sample_file}_results.jsonl.gz\"\n",
        "    \"\"\"\n",
        "    k = list(map(int, k.split(\",\")))\n",
        "\n",
        "    # Create a list of all generated sample files\n",
        "    sample_files = glob.glob(os.path.join(sample_dir, '*.json'))\n",
        "\n",
        "    # Read samples from all generated files and combine them into a list\n",
        "    samples = []\n",
        "    for sample_file in sample_files:\n",
        "        with open(sample_file, \"r\", encoding=\"utf8\") as f:\n",
        "            try:\n",
        "                samples.append(json.load(f))\n",
        "            except json.JSONDecodeError:\n",
        "                print(f\"Error decoding JSON from {sample_file}\")\n",
        "                continue\n",
        "\n",
        "    # Create a dummy samples.jsonl file for the evaluation function\n",
        "    # In a real scenario, you might want to process the samples directly\n",
        "    # without writing to an intermediate file.\n",
        "    temp_samples_file = '/content/output_dir/temp_samples.jsonl'\n",
        "    with open(temp_samples_file, 'w', encoding='utf8') as f:\n",
        "        for sample in samples:\n",
        "            json.dump(sample, f)\n",
        "            f.write('\\n')\n",
        "\n",
        "\n",
        "    results = custom_evaluate_functional_correctness(temp_samples_file, k, n_workers, timeout, problem_file)\n",
        "    print(results)\n",
        "\n",
        "    # Clean up the temporary file\n",
        "    os.remove(temp_samples_file)\n",
        "\n",
        "\n",
        "def main():\n",
        "    fire.Fire(entry_point)\n",
        "\n",
        "\n",
        "sys.exit(main())"
      ],
      "metadata": {
        "id": "3dVBQIj-HUtH"
      },
      "execution_count": null,
      "outputs": []
    }
  ]
}